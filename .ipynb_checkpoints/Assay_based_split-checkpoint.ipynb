{
 "cells": [
  {
   "cell_type": "code",
   "execution_count": 3,
   "id": "d0ebe21b",
   "metadata": {},
   "outputs": [],
   "source": [
    "import numpy as np\n",
    "import pandas as pd\n",
    "from sklearn.model_selection import train_test_split"
   ]
  },
  {
   "cell_type": "code",
   "execution_count": 4,
   "id": "a052687e",
   "metadata": {},
   "outputs": [],
   "source": [
    "#Read sampled data\n",
    "\n",
    "df_sampled = pd.read_csv('/Users/Allen/Desktop/Dissertation/Moritz_notebook/sampled_assays.csv')\n",
    "df_toxcast = pd.read_csv('/Users/Allen/Desktop/Dissertation/Moritz_notebook/toxcast_aggregated.csv')"
   ]
  },
  {
   "cell_type": "code",
   "execution_count": 5,
   "id": "56d0ed55",
   "metadata": {},
   "outputs": [],
   "source": [
    "df_sampled_data=df_toxcast[df_sampled['assay_name']]"
   ]
  },
  {
   "cell_type": "code",
   "execution_count": 8,
   "id": "2b7b4d3d",
   "metadata": {},
   "outputs": [],
   "source": [
    "#Compound based split\n",
    "\n",
    "train, test = train_test_split(df_sampled_data, test_size=0.2)"
   ]
  },
  {
   "cell_type": "code",
   "execution_count": 9,
   "id": "9cbaff0f",
   "metadata": {},
   "outputs": [],
   "source": [
    "train, test = train_test_split(df_sampled_data['TOX21_p53_BLA_p1_ch2'].dropna(), test_size=0.2)\n",
    "\n",
    "train_df = pd.DataFrame(train)\n",
    "test_df = pd.DataFrame(test)\n",
    "\n",
    "#List of headers\n",
    "\n",
    "headers = list(df_sampled_data.columns)\n",
    "\n",
    "del headers[0]"
   ]
  },
  {
   "cell_type": "code",
   "execution_count": 10,
   "id": "1a26bfe2",
   "metadata": {},
   "outputs": [],
   "source": [
    "\n",
    "for i in headers:\n",
    "    traini, testi = train_test_split(df_sampled_data[i].dropna(), test_size=0.2)\n",
    "    \n",
    "    traini_df = pd.DataFrame(traini)\n",
    "    testi_df = pd.DataFrame(testi)\n",
    "    \n",
    "    train_df = traini_df.join(train_df, on = None, how = 'outer')\n",
    "    \n",
    "    test_df = testi_df.join(test_df, on = None, how = 'outer')"
   ]
  },
  {
   "cell_type": "code",
   "execution_count": 30,
   "id": "68dbc346",
   "metadata": {},
   "outputs": [],
   "source": [
    "#This is needed to make the dataframe full sized\n",
    "\n",
    "df_smiles = df_toxcast['standardised_smiles']\n",
    "df_smiles = pd.DataFrame(df_smiles)\n"
   ]
  },
  {
   "cell_type": "code",
   "execution_count": 20,
   "id": "e8df94f6",
   "metadata": {},
   "outputs": [],
   "source": [
    "#This joins the smiles data, and also makes them both correspond to each other \n",
    "\n",
    "df_train = df_smiles.join(train_df, on = None, how = 'outer')\n",
    "df_test = df_smiles.join(test_df, on = None, how = 'outer')"
   ]
  },
  {
   "cell_type": "code",
   "execution_count": 27,
   "id": "c745b212",
   "metadata": {},
   "outputs": [],
   "source": [
    "#Save them to csv\n",
    "df_train.to_csv('/Users/Allen/Desktop/Dissertation/Moritz_notebook/df_train.csv')\n",
    "df_test.to_csv('/Users/Allen/Desktop/Dissertation/Moritz_notebook/df_test.csv')"
   ]
  }
 ],
 "metadata": {
  "kernelspec": {
   "display_name": "Python 3",
   "language": "python",
   "name": "python3"
  },
  "language_info": {
   "codemirror_mode": {
    "name": "ipython",
    "version": 3
   },
   "file_extension": ".py",
   "mimetype": "text/x-python",
   "name": "python",
   "nbconvert_exporter": "python",
   "pygments_lexer": "ipython3",
   "version": "3.8.8"
  }
 },
 "nbformat": 4,
 "nbformat_minor": 5
}
