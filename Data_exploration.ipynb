{
 "cells": [
  {
   "cell_type": "code",
   "execution_count": 4,
   "id": "f438f001",
   "metadata": {},
   "outputs": [
    {
     "ename": "ModuleNotFoundError",
     "evalue": "No module named 'plotly'",
     "output_type": "error",
     "traceback": [
      "\u001b[0;31m---------------------------------------------------------------------------\u001b[0m",
      "\u001b[0;31mModuleNotFoundError\u001b[0m                       Traceback (most recent call last)",
      "\u001b[0;32m<ipython-input-4-c9c6999e41a8>\u001b[0m in \u001b[0;36m<module>\u001b[0;34m\u001b[0m\n\u001b[1;32m      9\u001b[0m \u001b[0;32mfrom\u001b[0m \u001b[0msklearn\u001b[0m\u001b[0;34m.\u001b[0m\u001b[0mensemble\u001b[0m \u001b[0;32mimport\u001b[0m \u001b[0mRandomForestClassifier\u001b[0m\u001b[0;34m\u001b[0m\u001b[0;34m\u001b[0m\u001b[0m\n\u001b[1;32m     10\u001b[0m \u001b[0;32mfrom\u001b[0m \u001b[0msklearn\u001b[0m\u001b[0;34m.\u001b[0m\u001b[0mmodel_selection\u001b[0m \u001b[0;32mimport\u001b[0m \u001b[0mStratifiedKFold\u001b[0m\u001b[0;34m\u001b[0m\u001b[0;34m\u001b[0m\u001b[0m\n\u001b[0;32m---> 11\u001b[0;31m \u001b[0;32mimport\u001b[0m \u001b[0mplotly\u001b[0m\u001b[0;34m.\u001b[0m\u001b[0mgraph_objects\u001b[0m \u001b[0;32mas\u001b[0m \u001b[0mgo\u001b[0m\u001b[0;34m\u001b[0m\u001b[0;34m\u001b[0m\u001b[0m\n\u001b[0m\u001b[1;32m     12\u001b[0m \u001b[0;32mimport\u001b[0m \u001b[0mitertools\u001b[0m\u001b[0;34m\u001b[0m\u001b[0;34m\u001b[0m\u001b[0m\n\u001b[1;32m     13\u001b[0m \u001b[0;34m\u001b[0m\u001b[0m\n",
      "\u001b[0;31mModuleNotFoundError\u001b[0m: No module named 'plotly'"
     ]
    }
   ],
   "source": [
    "import pandas as pd\n",
    "import numpy as np\n",
    "#from rdkit import Chem\n",
    "#from rdkit.Chem import AllChem\n",
    "#from rdkit.Chem import Descriptors\n",
    "#from rdkit.Chem import Draw\n",
    "#from rdkit import DataStructs\n",
    "from sklearn.model_selection import train_test_split\n",
    "from sklearn.ensemble import RandomForestClassifier\n",
    "from sklearn.model_selection import StratifiedKFold\n",
    "import plotly.graph_objects as go\n",
    "import itertools\n",
    "\n",
    "from sklearn.metrics import roc_auc_score\n",
    "from sklearn.metrics import accuracy_score\n",
    "from sklearn.metrics import precision_score\n",
    "from sklearn.metrics import recall_score\n",
    "from sklearn.metrics import matthews_corrcoef\n",
    "import math\n",
    "\n",
    "import matplotlib.pyplot as plt\n",
    "import numpy as np\n",
    "from matplotlib import colors\n",
    "from matplotlib.ticker import PercentFormatter\n",
    "\n",
    "from itertools import combinations\n",
    "import scipy.stats\n"
   ]
  },
  {
   "cell_type": "code",
   "execution_count": 3,
   "id": "03a00757",
   "metadata": {},
   "outputs": [
    {
     "ename": "FileNotFoundError",
     "evalue": "[Errno 2] No such file or directory: '/Users/Allen/Desktop/Dissertation/Moritz_notebook/Toxcast_aggregated.csv'",
     "output_type": "error",
     "traceback": [
      "\u001b[0;31m---------------------------------------------------------------------------\u001b[0m",
      "\u001b[0;31mFileNotFoundError\u001b[0m                         Traceback (most recent call last)",
      "\u001b[0;32m<ipython-input-3-7a2e4abbef1c>\u001b[0m in \u001b[0;36m<module>\u001b[0;34m\u001b[0m\n\u001b[1;32m      1\u001b[0m \u001b[0;31m#Import aggregated & normalised data\u001b[0m\u001b[0;34m\u001b[0m\u001b[0;34m\u001b[0m\u001b[0;34m\u001b[0m\u001b[0m\n\u001b[0;32m----> 2\u001b[0;31m \u001b[0mdf_toxcast\u001b[0m \u001b[0;34m=\u001b[0m \u001b[0mpd\u001b[0m\u001b[0;34m.\u001b[0m\u001b[0mread_csv\u001b[0m\u001b[0;34m(\u001b[0m\u001b[0;34m'/Users/Allen/Desktop/Dissertation/Moritz_notebook/Toxcast_aggregated.csv'\u001b[0m\u001b[0;34m)\u001b[0m\u001b[0;34m\u001b[0m\u001b[0;34m\u001b[0m\u001b[0m\n\u001b[0m",
      "\u001b[0;32m~/opt/anaconda3/lib/python3.8/site-packages/pandas/io/parsers.py\u001b[0m in \u001b[0;36mread_csv\u001b[0;34m(filepath_or_buffer, sep, delimiter, header, names, index_col, usecols, squeeze, prefix, mangle_dupe_cols, dtype, engine, converters, true_values, false_values, skipinitialspace, skiprows, skipfooter, nrows, na_values, keep_default_na, na_filter, verbose, skip_blank_lines, parse_dates, infer_datetime_format, keep_date_col, date_parser, dayfirst, cache_dates, iterator, chunksize, compression, thousands, decimal, lineterminator, quotechar, quoting, doublequote, escapechar, comment, encoding, dialect, error_bad_lines, warn_bad_lines, delim_whitespace, low_memory, memory_map, float_precision, storage_options)\u001b[0m\n\u001b[1;32m    608\u001b[0m     \u001b[0mkwds\u001b[0m\u001b[0;34m.\u001b[0m\u001b[0mupdate\u001b[0m\u001b[0;34m(\u001b[0m\u001b[0mkwds_defaults\u001b[0m\u001b[0;34m)\u001b[0m\u001b[0;34m\u001b[0m\u001b[0;34m\u001b[0m\u001b[0m\n\u001b[1;32m    609\u001b[0m \u001b[0;34m\u001b[0m\u001b[0m\n\u001b[0;32m--> 610\u001b[0;31m     \u001b[0;32mreturn\u001b[0m \u001b[0m_read\u001b[0m\u001b[0;34m(\u001b[0m\u001b[0mfilepath_or_buffer\u001b[0m\u001b[0;34m,\u001b[0m \u001b[0mkwds\u001b[0m\u001b[0;34m)\u001b[0m\u001b[0;34m\u001b[0m\u001b[0;34m\u001b[0m\u001b[0m\n\u001b[0m\u001b[1;32m    611\u001b[0m \u001b[0;34m\u001b[0m\u001b[0m\n\u001b[1;32m    612\u001b[0m \u001b[0;34m\u001b[0m\u001b[0m\n",
      "\u001b[0;32m~/opt/anaconda3/lib/python3.8/site-packages/pandas/io/parsers.py\u001b[0m in \u001b[0;36m_read\u001b[0;34m(filepath_or_buffer, kwds)\u001b[0m\n\u001b[1;32m    460\u001b[0m \u001b[0;34m\u001b[0m\u001b[0m\n\u001b[1;32m    461\u001b[0m     \u001b[0;31m# Create the parser.\u001b[0m\u001b[0;34m\u001b[0m\u001b[0;34m\u001b[0m\u001b[0;34m\u001b[0m\u001b[0m\n\u001b[0;32m--> 462\u001b[0;31m     \u001b[0mparser\u001b[0m \u001b[0;34m=\u001b[0m \u001b[0mTextFileReader\u001b[0m\u001b[0;34m(\u001b[0m\u001b[0mfilepath_or_buffer\u001b[0m\u001b[0;34m,\u001b[0m \u001b[0;34m**\u001b[0m\u001b[0mkwds\u001b[0m\u001b[0;34m)\u001b[0m\u001b[0;34m\u001b[0m\u001b[0;34m\u001b[0m\u001b[0m\n\u001b[0m\u001b[1;32m    463\u001b[0m \u001b[0;34m\u001b[0m\u001b[0m\n\u001b[1;32m    464\u001b[0m     \u001b[0;32mif\u001b[0m \u001b[0mchunksize\u001b[0m \u001b[0;32mor\u001b[0m \u001b[0miterator\u001b[0m\u001b[0;34m:\u001b[0m\u001b[0;34m\u001b[0m\u001b[0;34m\u001b[0m\u001b[0m\n",
      "\u001b[0;32m~/opt/anaconda3/lib/python3.8/site-packages/pandas/io/parsers.py\u001b[0m in \u001b[0;36m__init__\u001b[0;34m(self, f, engine, **kwds)\u001b[0m\n\u001b[1;32m    817\u001b[0m             \u001b[0mself\u001b[0m\u001b[0;34m.\u001b[0m\u001b[0moptions\u001b[0m\u001b[0;34m[\u001b[0m\u001b[0;34m\"has_index_names\"\u001b[0m\u001b[0;34m]\u001b[0m \u001b[0;34m=\u001b[0m \u001b[0mkwds\u001b[0m\u001b[0;34m[\u001b[0m\u001b[0;34m\"has_index_names\"\u001b[0m\u001b[0;34m]\u001b[0m\u001b[0;34m\u001b[0m\u001b[0;34m\u001b[0m\u001b[0m\n\u001b[1;32m    818\u001b[0m \u001b[0;34m\u001b[0m\u001b[0m\n\u001b[0;32m--> 819\u001b[0;31m         \u001b[0mself\u001b[0m\u001b[0;34m.\u001b[0m\u001b[0m_engine\u001b[0m \u001b[0;34m=\u001b[0m \u001b[0mself\u001b[0m\u001b[0;34m.\u001b[0m\u001b[0m_make_engine\u001b[0m\u001b[0;34m(\u001b[0m\u001b[0mself\u001b[0m\u001b[0;34m.\u001b[0m\u001b[0mengine\u001b[0m\u001b[0;34m)\u001b[0m\u001b[0;34m\u001b[0m\u001b[0;34m\u001b[0m\u001b[0m\n\u001b[0m\u001b[1;32m    820\u001b[0m \u001b[0;34m\u001b[0m\u001b[0m\n\u001b[1;32m    821\u001b[0m     \u001b[0;32mdef\u001b[0m \u001b[0mclose\u001b[0m\u001b[0;34m(\u001b[0m\u001b[0mself\u001b[0m\u001b[0;34m)\u001b[0m\u001b[0;34m:\u001b[0m\u001b[0;34m\u001b[0m\u001b[0;34m\u001b[0m\u001b[0m\n",
      "\u001b[0;32m~/opt/anaconda3/lib/python3.8/site-packages/pandas/io/parsers.py\u001b[0m in \u001b[0;36m_make_engine\u001b[0;34m(self, engine)\u001b[0m\n\u001b[1;32m   1048\u001b[0m             )\n\u001b[1;32m   1049\u001b[0m         \u001b[0;31m# error: Too many arguments for \"ParserBase\"\u001b[0m\u001b[0;34m\u001b[0m\u001b[0;34m\u001b[0m\u001b[0;34m\u001b[0m\u001b[0m\n\u001b[0;32m-> 1050\u001b[0;31m         \u001b[0;32mreturn\u001b[0m \u001b[0mmapping\u001b[0m\u001b[0;34m[\u001b[0m\u001b[0mengine\u001b[0m\u001b[0;34m]\u001b[0m\u001b[0;34m(\u001b[0m\u001b[0mself\u001b[0m\u001b[0;34m.\u001b[0m\u001b[0mf\u001b[0m\u001b[0;34m,\u001b[0m \u001b[0;34m**\u001b[0m\u001b[0mself\u001b[0m\u001b[0;34m.\u001b[0m\u001b[0moptions\u001b[0m\u001b[0;34m)\u001b[0m  \u001b[0;31m# type: ignore[call-arg]\u001b[0m\u001b[0;34m\u001b[0m\u001b[0;34m\u001b[0m\u001b[0m\n\u001b[0m\u001b[1;32m   1051\u001b[0m \u001b[0;34m\u001b[0m\u001b[0m\n\u001b[1;32m   1052\u001b[0m     \u001b[0;32mdef\u001b[0m \u001b[0m_failover_to_python\u001b[0m\u001b[0;34m(\u001b[0m\u001b[0mself\u001b[0m\u001b[0;34m)\u001b[0m\u001b[0;34m:\u001b[0m\u001b[0;34m\u001b[0m\u001b[0;34m\u001b[0m\u001b[0m\n",
      "\u001b[0;32m~/opt/anaconda3/lib/python3.8/site-packages/pandas/io/parsers.py\u001b[0m in \u001b[0;36m__init__\u001b[0;34m(self, src, **kwds)\u001b[0m\n\u001b[1;32m   1865\u001b[0m \u001b[0;34m\u001b[0m\u001b[0m\n\u001b[1;32m   1866\u001b[0m         \u001b[0;31m# open handles\u001b[0m\u001b[0;34m\u001b[0m\u001b[0;34m\u001b[0m\u001b[0;34m\u001b[0m\u001b[0m\n\u001b[0;32m-> 1867\u001b[0;31m         \u001b[0mself\u001b[0m\u001b[0;34m.\u001b[0m\u001b[0m_open_handles\u001b[0m\u001b[0;34m(\u001b[0m\u001b[0msrc\u001b[0m\u001b[0;34m,\u001b[0m \u001b[0mkwds\u001b[0m\u001b[0;34m)\u001b[0m\u001b[0;34m\u001b[0m\u001b[0;34m\u001b[0m\u001b[0m\n\u001b[0m\u001b[1;32m   1868\u001b[0m         \u001b[0;32massert\u001b[0m \u001b[0mself\u001b[0m\u001b[0;34m.\u001b[0m\u001b[0mhandles\u001b[0m \u001b[0;32mis\u001b[0m \u001b[0;32mnot\u001b[0m \u001b[0;32mNone\u001b[0m\u001b[0;34m\u001b[0m\u001b[0;34m\u001b[0m\u001b[0m\n\u001b[1;32m   1869\u001b[0m         \u001b[0;32mfor\u001b[0m \u001b[0mkey\u001b[0m \u001b[0;32min\u001b[0m \u001b[0;34m(\u001b[0m\u001b[0;34m\"storage_options\"\u001b[0m\u001b[0;34m,\u001b[0m \u001b[0;34m\"encoding\"\u001b[0m\u001b[0;34m,\u001b[0m \u001b[0;34m\"memory_map\"\u001b[0m\u001b[0;34m,\u001b[0m \u001b[0;34m\"compression\"\u001b[0m\u001b[0;34m)\u001b[0m\u001b[0;34m:\u001b[0m\u001b[0;34m\u001b[0m\u001b[0;34m\u001b[0m\u001b[0m\n",
      "\u001b[0;32m~/opt/anaconda3/lib/python3.8/site-packages/pandas/io/parsers.py\u001b[0m in \u001b[0;36m_open_handles\u001b[0;34m(self, src, kwds)\u001b[0m\n\u001b[1;32m   1360\u001b[0m         \u001b[0mLet\u001b[0m \u001b[0mthe\u001b[0m \u001b[0mreaders\u001b[0m \u001b[0mopen\u001b[0m \u001b[0mIOHanldes\u001b[0m \u001b[0mafter\u001b[0m \u001b[0mthey\u001b[0m \u001b[0mare\u001b[0m \u001b[0mdone\u001b[0m \u001b[0;32mwith\u001b[0m \u001b[0mtheir\u001b[0m \u001b[0mpotential\u001b[0m \u001b[0mraises\u001b[0m\u001b[0;34m.\u001b[0m\u001b[0;34m\u001b[0m\u001b[0;34m\u001b[0m\u001b[0m\n\u001b[1;32m   1361\u001b[0m         \"\"\"\n\u001b[0;32m-> 1362\u001b[0;31m         self.handles = get_handle(\n\u001b[0m\u001b[1;32m   1363\u001b[0m             \u001b[0msrc\u001b[0m\u001b[0;34m,\u001b[0m\u001b[0;34m\u001b[0m\u001b[0;34m\u001b[0m\u001b[0m\n\u001b[1;32m   1364\u001b[0m             \u001b[0;34m\"r\"\u001b[0m\u001b[0;34m,\u001b[0m\u001b[0;34m\u001b[0m\u001b[0;34m\u001b[0m\u001b[0m\n",
      "\u001b[0;32m~/opt/anaconda3/lib/python3.8/site-packages/pandas/io/common.py\u001b[0m in \u001b[0;36mget_handle\u001b[0;34m(path_or_buf, mode, encoding, compression, memory_map, is_text, errors, storage_options)\u001b[0m\n\u001b[1;32m    640\u001b[0m                 \u001b[0merrors\u001b[0m \u001b[0;34m=\u001b[0m \u001b[0;34m\"replace\"\u001b[0m\u001b[0;34m\u001b[0m\u001b[0;34m\u001b[0m\u001b[0m\n\u001b[1;32m    641\u001b[0m             \u001b[0;31m# Encoding\u001b[0m\u001b[0;34m\u001b[0m\u001b[0;34m\u001b[0m\u001b[0;34m\u001b[0m\u001b[0m\n\u001b[0;32m--> 642\u001b[0;31m             handle = open(\n\u001b[0m\u001b[1;32m    643\u001b[0m                 \u001b[0mhandle\u001b[0m\u001b[0;34m,\u001b[0m\u001b[0;34m\u001b[0m\u001b[0;34m\u001b[0m\u001b[0m\n\u001b[1;32m    644\u001b[0m                 \u001b[0mioargs\u001b[0m\u001b[0;34m.\u001b[0m\u001b[0mmode\u001b[0m\u001b[0;34m,\u001b[0m\u001b[0;34m\u001b[0m\u001b[0;34m\u001b[0m\u001b[0m\n",
      "\u001b[0;31mFileNotFoundError\u001b[0m: [Errno 2] No such file or directory: '/Users/Allen/Desktop/Dissertation/Moritz_notebook/Toxcast_aggregated.csv'"
     ]
    }
   ],
   "source": [
    "#Import aggregated & normalised data\n",
    "df_toxcast = pd.read_csv('/Users/Allen/Desktop/Dissertation/Moritz_notebook/Toxcast_aggregated.csv')"
   ]
  },
  {
   "cell_type": "markdown",
   "id": "fa7ecb18",
   "metadata": {},
   "source": [
    "## Creating a random small dataframe to test my code on before running it on the large toxcast data"
   ]
  },
  {
   "cell_type": "code",
   "execution_count": 3,
   "id": "d0fc7661",
   "metadata": {},
   "outputs": [],
   "source": [
    "data = {'a':[0,np.nan,0,np.nan,1,0,1],\n",
    "        'b':[np.nan,0,1,0,np.nan,np.nan,1],\n",
    "        'c':[1,np.nan,0,np.nan,np.nan,np.nan,1],\n",
    "        'd':[1,0,1,1,0,0,0],\n",
    "        'e':[np.nan,0,1,0,np.nan,np.nan,1],\n",
    "        'f':['chemical_1','chemical_2','chemical_3','chemical_4','chemical_5','chemical_6','chemical_7']}\n",
    "df_data = pd.DataFrame(data)"
   ]
  },
  {
   "cell_type": "code",
   "execution_count": 4,
   "id": "1a473cb9",
   "metadata": {
    "scrolled": true
   },
   "outputs": [
    {
     "data": {
      "text/plain": [
       "'c'"
      ]
     },
     "execution_count": 4,
     "metadata": {},
     "output_type": "execute_result"
    }
   ],
   "source": [
    "df_data.head()\n",
    "df_data.columns[2]"
   ]
  },
  {
   "cell_type": "code",
   "execution_count": 5,
   "id": "92f804dc",
   "metadata": {},
   "outputs": [
    {
     "name": "stdout",
     "output_type": "stream",
     "text": [
      "chemical_3\n",
      "chemical_7\n",
      "d\n"
     ]
    }
   ],
   "source": [
    "#Testing the code on a randomly made dataframe for chemicals with label for each assay\n",
    "\n",
    "\n",
    "for i in range(df_data.shape[0]): #iterate over rows\n",
    "    for j in range(df_data.shape[1]-1): #iterate over columns \n",
    "        if np.isnan(df_data.iloc[i,j]) == True: #Check if missing value here, if so then brak loop\n",
    "            break\n",
    "        elif j+1 == df_data.shape[1]-1:\n",
    "            print(df_data.iloc[i,j+1])\n",
    "        else:                      #if not NaN then \n",
    "            continue\n",
    "\n",
    "#Testing the code on a randomly made dataframe for assay with label for each chemical\n",
    "\n",
    "\n",
    "for i in range(df_data.shape[1]-1): #iterate over columns\n",
    "    \n",
    "    for j in range(df_data.shape[0]): #iterate over rows\n",
    "        if np.isnan(df_data.iloc[j,i]) == True: #Check if missing value here, if so then brak loop\n",
    "            break\n",
    "        elif j == df_data.shape[1]:\n",
    "            print(df_data.columns[i])\n",
    "        else:\n",
    "            continue\n",
    "\n",
    "        "
   ]
  },
  {
   "cell_type": "markdown",
   "id": "f944dd05",
   "metadata": {},
   "source": [
    "# Testing on the Toxcast data"
   ]
  },
  {
   "cell_type": "code",
   "execution_count": 6,
   "id": "468fd501",
   "metadata": {},
   "outputs": [],
   "source": [
    "#Running code on toxcast dataframe for chemical with label for each assay\n",
    "\n",
    "for i in range(df_toxcast.shape[0]): #iterate over rows\n",
    "    for j in range(df_toxcast.shape[1]-1): #iterate over columns \n",
    "        if np.isnan(df_toxcast.iloc[i,j]) == True: #Check if missing value here, if so then brak loop\n",
    "            break\n",
    "        elif j+1 == df_toxcast.shape[1]-1:\n",
    "            print(df_toxcast.iloc[i,j+1])\n",
    "        else:                      #if not NaN then \n",
    "            continue"
   ]
  },
  {
   "cell_type": "code",
   "execution_count": 7,
   "id": "c09e668b",
   "metadata": {},
   "outputs": [],
   "source": [
    "#Running code on toxcast dataframe for assay with label for each chemical\n",
    "\n",
    "for i in range(df_toxcast.shape[1]-1): #iterate over columns\n",
    "    \n",
    "    for j in range(df_toxcast.shape[0]): #iterate over rows\n",
    "        if np.isnan(df_toxcast.iloc[j,i]) == True: #Check if missing value here, if so then brak loop\n",
    "            break\n",
    "        elif j == df_toxcast.shape[1]:\n",
    "            print(df_toxcast.columns[i])\n",
    "        else:\n",
    "            continue\n",
    "\n"
   ]
  },
  {
   "cell_type": "markdown",
   "id": "19791007",
   "metadata": {},
   "source": [
    "## Result\n",
    "\n",
    "There are no chemicals with a label for each assay, and also no assays with a label for each chemical (i.e. in the opposide dimention)\n",
    "\n"
   ]
  },
  {
   "cell_type": "markdown",
   "id": "998379ac",
   "metadata": {},
   "source": [
    "# Proportion of activites/inactivities for each assay"
   ]
  },
  {
   "cell_type": "markdown",
   "id": "c707da91",
   "metadata": {},
   "source": [
    "### Just having a play about with a smaller dataset I have created"
   ]
  },
  {
   "cell_type": "code",
   "execution_count": 8,
   "id": "9baafa27",
   "metadata": {},
   "outputs": [
    {
     "name": "stdout",
     "output_type": "stream",
     "text": [
      "0\n",
      "1\n",
      "2\n",
      "3\n",
      "[[0. 1. 3. 0.]\n",
      " [0. 2. 1. 1.]\n",
      " [0. 1. 1. 2.]\n",
      " [0. 1. 2. 1.]]\n"
     ]
    }
   ],
   "source": [
    "list1 = np.array(([1,0,np.nan,0,1],\n",
    "                [0,1,1,0,np.nan],\n",
    "                [0,np.nan,np.nan,np.nan,1],\n",
    "                [0,1,0,1,0]))\n",
    "\n",
    "list1 = pd.DataFrame(list1)\n",
    "stats1 = np.zeros((list1.shape[1]-1,4))\n",
    "\n",
    "for i in range(list1.shape[1]-1): #iterate over columns\n",
    "    print(i)\n",
    "    \n",
    "    for j in range(list1.shape[0]): #iterate over rows\n",
    "        \n",
    "        if np.isnan(list1.iloc[j,i]) == True: #update numpy array\n",
    "                stats1[i,3] += 1\n",
    "                \n",
    "        elif list1.iloc[j,i] == 0.0:\n",
    "            stats1[i,2] += 1\n",
    "        \n",
    "        elif list1.iloc[j,i] == 1.0:\n",
    "            stats1[i,1] += 1\n",
    "        else:\n",
    "            continue\n",
    "            \n",
    "print(stats1)"
   ]
  },
  {
   "cell_type": "markdown",
   "id": "d67a725e",
   "metadata": {},
   "source": [
    "# Working on the toxcast data"
   ]
  },
  {
   "cell_type": "code",
   "execution_count": 9,
   "id": "5fc3a8bb",
   "metadata": {},
   "outputs": [],
   "source": [
    "#Initialise the array\n",
    "\n",
    "stats = np.zeros((df_toxcast.shape[1]-1,4))"
   ]
  },
  {
   "cell_type": "code",
   "execution_count": 10,
   "id": "506a06df",
   "metadata": {},
   "outputs": [],
   "source": [
    "#Running code on toxcast dataframe for assay with label for each chemical\n",
    "\n",
    "for i in range(df_toxcast.shape[1]-1): #iterate over columns\n",
    "    #print(i) # Just to see the progress of the loop\n",
    "    \n",
    "    for j in range(df_toxcast.shape[0]): #iterate over rows\n",
    "        \n",
    "        if np.isnan(df_toxcast.iloc[j,i]): #update numpy array\n",
    "                stats[i,3] += 1\n",
    "                \n",
    "        elif df_toxcast.iloc[j,i] == 0.0:\n",
    "            stats[i,2] += 1\n",
    "        \n",
    "        elif df_toxcast.iloc[j,i] == 1.0:\n",
    "            stats[i,1] += 1\n",
    "        else:\n",
    "            print(i,j) #Locate any errors if they arise"
   ]
  },
  {
   "cell_type": "code",
   "execution_count": 11,
   "id": "04a474c5",
   "metadata": {},
   "outputs": [],
   "source": [
    "df_stats = pd.DataFrame(stats)"
   ]
  },
  {
   "cell_type": "code",
   "execution_count": 12,
   "id": "81121abd",
   "metadata": {},
   "outputs": [],
   "source": [
    "for i in range(df_toxcast.shape[1]-1):\n",
    "    df_stats.iloc[i,0] = df_toxcast.columns[i]"
   ]
  },
  {
   "cell_type": "code",
   "execution_count": 13,
   "id": "c3fc4d76",
   "metadata": {},
   "outputs": [],
   "source": [
    "df_stats.columns = ['assay_name','active_compounds','inactive_compounds','missing_compounds']"
   ]
  },
  {
   "cell_type": "code",
   "execution_count": 14,
   "id": "0a4d5ef0",
   "metadata": {},
   "outputs": [],
   "source": [
    "total = df_stats['active_compounds']+df_stats['inactive_compounds']+df_stats['missing_compounds']\n",
    "df_stats['total'] = total"
   ]
  },
  {
   "cell_type": "code",
   "execution_count": 15,
   "id": "5d9425a5",
   "metadata": {},
   "outputs": [
    {
     "data": {
      "text/html": [
       "<div>\n",
       "<style scoped>\n",
       "    .dataframe tbody tr th:only-of-type {\n",
       "        vertical-align: middle;\n",
       "    }\n",
       "\n",
       "    .dataframe tbody tr th {\n",
       "        vertical-align: top;\n",
       "    }\n",
       "\n",
       "    .dataframe thead th {\n",
       "        text-align: right;\n",
       "    }\n",
       "</style>\n",
       "<table border=\"1\" class=\"dataframe\">\n",
       "  <thead>\n",
       "    <tr style=\"text-align: right;\">\n",
       "      <th></th>\n",
       "      <th>assay_name</th>\n",
       "      <th>active_compounds</th>\n",
       "      <th>inactive_compounds</th>\n",
       "      <th>missing_compounds</th>\n",
       "      <th>total</th>\n",
       "    </tr>\n",
       "  </thead>\n",
       "  <tbody>\n",
       "    <tr>\n",
       "      <th>0</th>\n",
       "      <td>ACEA_T47D_80hr_Negative</td>\n",
       "      <td>424.0</td>\n",
       "      <td>1233.0</td>\n",
       "      <td>6130.0</td>\n",
       "      <td>7787.0</td>\n",
       "    </tr>\n",
       "    <tr>\n",
       "      <th>1</th>\n",
       "      <td>ACEA_T47D_80hr_Positive</td>\n",
       "      <td>279.0</td>\n",
       "      <td>1374.0</td>\n",
       "      <td>6134.0</td>\n",
       "      <td>7787.0</td>\n",
       "    </tr>\n",
       "    <tr>\n",
       "      <th>2</th>\n",
       "      <td>APR_HepG2_CellCycleArrest_24h_dn</td>\n",
       "      <td>167.0</td>\n",
       "      <td>834.0</td>\n",
       "      <td>6786.0</td>\n",
       "      <td>7787.0</td>\n",
       "    </tr>\n",
       "    <tr>\n",
       "      <th>3</th>\n",
       "      <td>APR_HepG2_CellCycleArrest_24h_up</td>\n",
       "      <td>43.0</td>\n",
       "      <td>959.0</td>\n",
       "      <td>6785.0</td>\n",
       "      <td>7787.0</td>\n",
       "    </tr>\n",
       "    <tr>\n",
       "      <th>4</th>\n",
       "      <td>APR_HepG2_CellCycleArrest_72h_dn</td>\n",
       "      <td>232.0</td>\n",
       "      <td>766.0</td>\n",
       "      <td>6789.0</td>\n",
       "      <td>7787.0</td>\n",
       "    </tr>\n",
       "    <tr>\n",
       "      <th>...</th>\n",
       "      <td>...</td>\n",
       "      <td>...</td>\n",
       "      <td>...</td>\n",
       "      <td>...</td>\n",
       "      <td>...</td>\n",
       "    </tr>\n",
       "    <tr>\n",
       "      <th>612</th>\n",
       "      <td>Tanguay_ZF_120hpf_SOMI_up</td>\n",
       "      <td>38.0</td>\n",
       "      <td>953.0</td>\n",
       "      <td>6796.0</td>\n",
       "      <td>7787.0</td>\n",
       "    </tr>\n",
       "    <tr>\n",
       "      <th>613</th>\n",
       "      <td>Tanguay_ZF_120hpf_SWIM_up</td>\n",
       "      <td>32.0</td>\n",
       "      <td>958.0</td>\n",
       "      <td>6797.0</td>\n",
       "      <td>7787.0</td>\n",
       "    </tr>\n",
       "    <tr>\n",
       "      <th>614</th>\n",
       "      <td>Tanguay_ZF_120hpf_TRUN_up</td>\n",
       "      <td>56.0</td>\n",
       "      <td>934.0</td>\n",
       "      <td>6797.0</td>\n",
       "      <td>7787.0</td>\n",
       "    </tr>\n",
       "    <tr>\n",
       "      <th>615</th>\n",
       "      <td>Tanguay_ZF_120hpf_TR_up</td>\n",
       "      <td>80.0</td>\n",
       "      <td>911.0</td>\n",
       "      <td>6796.0</td>\n",
       "      <td>7787.0</td>\n",
       "    </tr>\n",
       "    <tr>\n",
       "      <th>616</th>\n",
       "      <td>Tanguay_ZF_120hpf_YSE_up</td>\n",
       "      <td>125.0</td>\n",
       "      <td>866.0</td>\n",
       "      <td>6796.0</td>\n",
       "      <td>7787.0</td>\n",
       "    </tr>\n",
       "  </tbody>\n",
       "</table>\n",
       "<p>617 rows × 5 columns</p>\n",
       "</div>"
      ],
      "text/plain": [
       "                           assay_name  active_compounds  inactive_compounds  \\\n",
       "0             ACEA_T47D_80hr_Negative             424.0              1233.0   \n",
       "1             ACEA_T47D_80hr_Positive             279.0              1374.0   \n",
       "2    APR_HepG2_CellCycleArrest_24h_dn             167.0               834.0   \n",
       "3    APR_HepG2_CellCycleArrest_24h_up              43.0               959.0   \n",
       "4    APR_HepG2_CellCycleArrest_72h_dn             232.0               766.0   \n",
       "..                                ...               ...                 ...   \n",
       "612         Tanguay_ZF_120hpf_SOMI_up              38.0               953.0   \n",
       "613         Tanguay_ZF_120hpf_SWIM_up              32.0               958.0   \n",
       "614         Tanguay_ZF_120hpf_TRUN_up              56.0               934.0   \n",
       "615           Tanguay_ZF_120hpf_TR_up              80.0               911.0   \n",
       "616          Tanguay_ZF_120hpf_YSE_up             125.0               866.0   \n",
       "\n",
       "     missing_compounds   total  \n",
       "0               6130.0  7787.0  \n",
       "1               6134.0  7787.0  \n",
       "2               6786.0  7787.0  \n",
       "3               6785.0  7787.0  \n",
       "4               6789.0  7787.0  \n",
       "..                 ...     ...  \n",
       "612             6796.0  7787.0  \n",
       "613             6797.0  7787.0  \n",
       "614             6797.0  7787.0  \n",
       "615             6796.0  7787.0  \n",
       "616             6796.0  7787.0  \n",
       "\n",
       "[617 rows x 5 columns]"
      ]
     },
     "execution_count": 15,
     "metadata": {},
     "output_type": "execute_result"
    }
   ],
   "source": [
    "df_stats"
   ]
  },
  {
   "cell_type": "code",
   "execution_count": 16,
   "id": "c3de3660",
   "metadata": {},
   "outputs": [
    {
     "data": {
      "text/html": [
       "<div>\n",
       "<style scoped>\n",
       "    .dataframe tbody tr th:only-of-type {\n",
       "        vertical-align: middle;\n",
       "    }\n",
       "\n",
       "    .dataframe tbody tr th {\n",
       "        vertical-align: top;\n",
       "    }\n",
       "\n",
       "    .dataframe thead th {\n",
       "        text-align: right;\n",
       "    }\n",
       "</style>\n",
       "<table border=\"1\" class=\"dataframe\">\n",
       "  <thead>\n",
       "    <tr style=\"text-align: right;\">\n",
       "      <th></th>\n",
       "      <th>assay_name</th>\n",
       "      <th>active_compounds</th>\n",
       "      <th>inactive_compounds</th>\n",
       "      <th>missing_compounds</th>\n",
       "      <th>total</th>\n",
       "      <th>fraction_active</th>\n",
       "      <th>fraction_inactive</th>\n",
       "      <th>fraction_missing</th>\n",
       "    </tr>\n",
       "  </thead>\n",
       "  <tbody>\n",
       "    <tr>\n",
       "      <th>0</th>\n",
       "      <td>ACEA_T47D_80hr_Negative</td>\n",
       "      <td>424.0</td>\n",
       "      <td>1233.0</td>\n",
       "      <td>6130.0</td>\n",
       "      <td>7787.0</td>\n",
       "      <td>0.054450</td>\n",
       "      <td>0.158341</td>\n",
       "      <td>0.787209</td>\n",
       "    </tr>\n",
       "    <tr>\n",
       "      <th>1</th>\n",
       "      <td>ACEA_T47D_80hr_Positive</td>\n",
       "      <td>279.0</td>\n",
       "      <td>1374.0</td>\n",
       "      <td>6134.0</td>\n",
       "      <td>7787.0</td>\n",
       "      <td>0.035829</td>\n",
       "      <td>0.176448</td>\n",
       "      <td>0.787723</td>\n",
       "    </tr>\n",
       "    <tr>\n",
       "      <th>2</th>\n",
       "      <td>APR_HepG2_CellCycleArrest_24h_dn</td>\n",
       "      <td>167.0</td>\n",
       "      <td>834.0</td>\n",
       "      <td>6786.0</td>\n",
       "      <td>7787.0</td>\n",
       "      <td>0.021446</td>\n",
       "      <td>0.107102</td>\n",
       "      <td>0.871452</td>\n",
       "    </tr>\n",
       "    <tr>\n",
       "      <th>3</th>\n",
       "      <td>APR_HepG2_CellCycleArrest_24h_up</td>\n",
       "      <td>43.0</td>\n",
       "      <td>959.0</td>\n",
       "      <td>6785.0</td>\n",
       "      <td>7787.0</td>\n",
       "      <td>0.005522</td>\n",
       "      <td>0.123154</td>\n",
       "      <td>0.871324</td>\n",
       "    </tr>\n",
       "    <tr>\n",
       "      <th>4</th>\n",
       "      <td>APR_HepG2_CellCycleArrest_72h_dn</td>\n",
       "      <td>232.0</td>\n",
       "      <td>766.0</td>\n",
       "      <td>6789.0</td>\n",
       "      <td>7787.0</td>\n",
       "      <td>0.029793</td>\n",
       "      <td>0.098369</td>\n",
       "      <td>0.871838</td>\n",
       "    </tr>\n",
       "    <tr>\n",
       "      <th>...</th>\n",
       "      <td>...</td>\n",
       "      <td>...</td>\n",
       "      <td>...</td>\n",
       "      <td>...</td>\n",
       "      <td>...</td>\n",
       "      <td>...</td>\n",
       "      <td>...</td>\n",
       "      <td>...</td>\n",
       "    </tr>\n",
       "    <tr>\n",
       "      <th>612</th>\n",
       "      <td>Tanguay_ZF_120hpf_SOMI_up</td>\n",
       "      <td>38.0</td>\n",
       "      <td>953.0</td>\n",
       "      <td>6796.0</td>\n",
       "      <td>7787.0</td>\n",
       "      <td>0.004880</td>\n",
       "      <td>0.122383</td>\n",
       "      <td>0.872737</td>\n",
       "    </tr>\n",
       "    <tr>\n",
       "      <th>613</th>\n",
       "      <td>Tanguay_ZF_120hpf_SWIM_up</td>\n",
       "      <td>32.0</td>\n",
       "      <td>958.0</td>\n",
       "      <td>6797.0</td>\n",
       "      <td>7787.0</td>\n",
       "      <td>0.004109</td>\n",
       "      <td>0.123026</td>\n",
       "      <td>0.872865</td>\n",
       "    </tr>\n",
       "    <tr>\n",
       "      <th>614</th>\n",
       "      <td>Tanguay_ZF_120hpf_TRUN_up</td>\n",
       "      <td>56.0</td>\n",
       "      <td>934.0</td>\n",
       "      <td>6797.0</td>\n",
       "      <td>7787.0</td>\n",
       "      <td>0.007191</td>\n",
       "      <td>0.119943</td>\n",
       "      <td>0.872865</td>\n",
       "    </tr>\n",
       "    <tr>\n",
       "      <th>615</th>\n",
       "      <td>Tanguay_ZF_120hpf_TR_up</td>\n",
       "      <td>80.0</td>\n",
       "      <td>911.0</td>\n",
       "      <td>6796.0</td>\n",
       "      <td>7787.0</td>\n",
       "      <td>0.010274</td>\n",
       "      <td>0.116990</td>\n",
       "      <td>0.872737</td>\n",
       "    </tr>\n",
       "    <tr>\n",
       "      <th>616</th>\n",
       "      <td>Tanguay_ZF_120hpf_YSE_up</td>\n",
       "      <td>125.0</td>\n",
       "      <td>866.0</td>\n",
       "      <td>6796.0</td>\n",
       "      <td>7787.0</td>\n",
       "      <td>0.016052</td>\n",
       "      <td>0.111211</td>\n",
       "      <td>0.872737</td>\n",
       "    </tr>\n",
       "  </tbody>\n",
       "</table>\n",
       "<p>617 rows × 8 columns</p>\n",
       "</div>"
      ],
      "text/plain": [
       "                           assay_name  active_compounds  inactive_compounds  \\\n",
       "0             ACEA_T47D_80hr_Negative             424.0              1233.0   \n",
       "1             ACEA_T47D_80hr_Positive             279.0              1374.0   \n",
       "2    APR_HepG2_CellCycleArrest_24h_dn             167.0               834.0   \n",
       "3    APR_HepG2_CellCycleArrest_24h_up              43.0               959.0   \n",
       "4    APR_HepG2_CellCycleArrest_72h_dn             232.0               766.0   \n",
       "..                                ...               ...                 ...   \n",
       "612         Tanguay_ZF_120hpf_SOMI_up              38.0               953.0   \n",
       "613         Tanguay_ZF_120hpf_SWIM_up              32.0               958.0   \n",
       "614         Tanguay_ZF_120hpf_TRUN_up              56.0               934.0   \n",
       "615           Tanguay_ZF_120hpf_TR_up              80.0               911.0   \n",
       "616          Tanguay_ZF_120hpf_YSE_up             125.0               866.0   \n",
       "\n",
       "     missing_compounds   total  fraction_active  fraction_inactive  \\\n",
       "0               6130.0  7787.0         0.054450           0.158341   \n",
       "1               6134.0  7787.0         0.035829           0.176448   \n",
       "2               6786.0  7787.0         0.021446           0.107102   \n",
       "3               6785.0  7787.0         0.005522           0.123154   \n",
       "4               6789.0  7787.0         0.029793           0.098369   \n",
       "..                 ...     ...              ...                ...   \n",
       "612             6796.0  7787.0         0.004880           0.122383   \n",
       "613             6797.0  7787.0         0.004109           0.123026   \n",
       "614             6797.0  7787.0         0.007191           0.119943   \n",
       "615             6796.0  7787.0         0.010274           0.116990   \n",
       "616             6796.0  7787.0         0.016052           0.111211   \n",
       "\n",
       "     fraction_missing  \n",
       "0            0.787209  \n",
       "1            0.787723  \n",
       "2            0.871452  \n",
       "3            0.871324  \n",
       "4            0.871838  \n",
       "..                ...  \n",
       "612          0.872737  \n",
       "613          0.872865  \n",
       "614          0.872865  \n",
       "615          0.872737  \n",
       "616          0.872737  \n",
       "\n",
       "[617 rows x 8 columns]"
      ]
     },
     "execution_count": 16,
     "metadata": {},
     "output_type": "execute_result"
    }
   ],
   "source": [
    "\n",
    "fraction_active = df_stats['active_compounds']/df_stats['total']\n",
    "df_stats['fraction_active'] = fraction_active\n",
    "\n",
    "fraction_inactive = df_stats['inactive_compounds']/df_stats['total']\n",
    "df_stats['fraction_inactive'] = fraction_inactive\n",
    "\n",
    "fraction_missing = df_stats['missing_compounds']/df_stats['total']\n",
    "df_stats['fraction_missing'] = fraction_missing\n",
    "\n",
    "df_stats"
   ]
  },
  {
   "cell_type": "code",
   "execution_count": 17,
   "id": "f1580c4b",
   "metadata": {},
   "outputs": [],
   "source": [
    "df_stats.to_csv('/Users/Allen/Desktop/Dissertation/Moritz_notebook/assay_stats.csv')"
   ]
  },
  {
   "cell_type": "markdown",
   "id": "1bd1e9c3",
   "metadata": {},
   "source": [
    "## Run this to save having to run loops again"
   ]
  },
  {
   "cell_type": "code",
   "execution_count": 83,
   "id": "94686e66",
   "metadata": {},
   "outputs": [],
   "source": [
    "df_stats = pd.read_csv('/Users/Allen/Desktop/Dissertation/Moritz_notebook/assay_stats.csv')\n"
   ]
  },
  {
   "cell_type": "markdown",
   "id": "e6c5261b",
   "metadata": {},
   "source": [
    "# Chemical descriptor (eg molecular weight)"
   ]
  },
  {
   "cell_type": "code",
   "execution_count": 19,
   "id": "69c29b83",
   "metadata": {},
   "outputs": [],
   "source": [
    "#Molecular weight for each compound\n",
    "\n",
    "df_chemical_descriptor = pd.DataFrame(df_toxcast.iloc[:,df_toxcast.shape[1]-1])"
   ]
  },
  {
   "cell_type": "code",
   "execution_count": 20,
   "id": "6c88a13b",
   "metadata": {},
   "outputs": [],
   "source": [
    "mols = [Chem.MolFromSmiles(smi) for smi in df_chemical_descriptor['standardised_smiles']]\n",
    "weights = [Descriptors.ExactMolWt(mol) for mol in mols]\n",
    "\n",
    "df_chemical_descriptor['weights']=pd.DataFrame(weights)"
   ]
  },
  {
   "cell_type": "code",
   "execution_count": 21,
   "id": "b3b8865b",
   "metadata": {},
   "outputs": [],
   "source": [
    "df_chemical_descriptor.to_csv('/Users/Allen/Desktop/Dissertation/Moritz_notebook/chemical_descriptor.csv')"
   ]
  },
  {
   "cell_type": "code",
   "execution_count": 74,
   "id": "4481b482",
   "metadata": {},
   "outputs": [
    {
     "name": "stdout",
     "output_type": "stream",
     "text": [
      "268.7555332766991\n",
      "234.161979944\n"
     ]
    },
    {
     "data": {
      "text/plain": [
       "[]"
      ]
     },
     "execution_count": 74,
     "metadata": {},
     "output_type": "execute_result"
    },
    {
     "data": {
      "image/png": "[encoded data removed]",
      "text/plain": [
       "<Figure size 432x288 with 1 Axes>"
      ]
     },
     "metadata": {
      "needs_background": "light"
     },
     "output_type": "display_data"
    }
   ],
   "source": [
    "print(df_chemical_descriptor['weights'].mean())\n",
    "print(df_chemical_descriptor['weights'].median())\n",
    "plt.hist(df_chemical_descriptor['weights'], bins=30, label = 'Compounds', edgecolor = '#1f77b4')\n",
    "plt.title('Molecular Weights of Compounds in Toxcast')\n",
    "plt.xlabel('Molecular Weight')\n",
    "plt.ylabel('Frequency')\n",
    "plt.legend()\n",
    "plt.savefig('/Users/Allen/Desktop/Dissertation/Moritz_notebook/Exploration/weights.pdf')\n",
    "plt.plot()"
   ]
  },
  {
   "cell_type": "markdown",
   "id": "d5653748",
   "metadata": {},
   "source": [
    "## Run this to save having to run loops again"
   ]
  },
  {
   "cell_type": "code",
   "execution_count": 49,
   "id": "5b9879b2",
   "metadata": {},
   "outputs": [],
   "source": [
    "df_chemical_descriptor = pd.read_csv('/Users/Allen/Desktop/Dissertation/Moritz_notebook/chemical_descriptor.csv')"
   ]
  },
  {
   "cell_type": "markdown",
   "id": "be5cdbeb",
   "metadata": {},
   "source": [
    "# Attempt to filter the assays down"
   ]
  },
  {
   "cell_type": "markdown",
   "id": "91f60e3c",
   "metadata": {},
   "source": [
    "### Assay correlation"
   ]
  },
  {
   "cell_type": "code",
   "execution_count": 84,
   "id": "df985d7e",
   "metadata": {},
   "outputs": [],
   "source": [
    "'''\n",
    "Credit: Moritz Walter\n",
    "\n",
    "'''\n",
    "\n",
    "#This funtion returns the contingency table between assay1 and assay2\n",
    "\n",
    "\n",
    "def cont_table_assays(assay1,assay2):\n",
    "    #get contigengency table that describes actives in assay1 and assay2\n",
    "    #considers only substances measured in both assays\n",
    "    #return 2x2 contingengy table: (0,0)/a: A+B+, (0,1)/b: A+B-, (1,0)/c: A-B+, (1,1)/d: A-B-\n",
    "    \n",
    "    a = 0\n",
    "    b = 0\n",
    "    c = 0\n",
    "    d = 0\n",
    "    \n",
    "    for ass1,ass2 in zip(assay1,assay2):\n",
    "        \n",
    "        if math.isnan(ass1) or math.isnan(ass2): #consider only cases where compound was measured in both assyas\n",
    "            continue\n",
    "        \n",
    "        if ass1 == 1 and ass2 == 1:\n",
    "            a+=1\n",
    "        \n",
    "        elif ass1 == 1 and ass2 == 0:\n",
    "            b+=1\n",
    "        \n",
    "        elif ass1 == 0 and ass2 == 1:\n",
    "            c+=1\n",
    "        \n",
    "        elif ass1 == 0 and ass2 == 0:\n",
    "            d+=1\n",
    "            \n",
    "    return(np.array([[a,b],[c,d]])) \n",
    "\n",
    "\n",
    "\n",
    "#This function uses the contingency table to compute information metrics\n",
    "\n",
    "def info_metrics(array):\n",
    "    a = array[0,0]\n",
    "    b = array[0,1]\n",
    "    c = array[1,0]\n",
    "    d = array[1,1]\n",
    "    \n",
    "    #prob active in assay1\n",
    "    p1 = (a+b)/(a+b+c+d)\n",
    "    #entropy assay1\n",
    "    h1 = -p1*np.log2(p1) - (1-p1)*np.log2(1-p1)\n",
    "    \n",
    "    #prob active in assay2\n",
    "    p2 = (a+c)/(a+b+c+d)\n",
    "    #entropy assay2\n",
    "    h2 = -p2*np.log2(p2) - (1-p2)*np.log2(1-p2)\n",
    "    \n",
    "    #prob each table field\n",
    "    p3 = a/(a+b+c+d)\n",
    "    p4 = b/(a+b+c+d)\n",
    "    p5 = c/(a+b+c+d)\n",
    "    p6 = d/(a+b+c+d)\n",
    "    \n",
    "    #joint entropy\n",
    "    h12 = -p3*np.log2(p3) - p4*np.log2(p4) - p5*np.log2(p5) - p6*np.log2(p6)\n",
    "    \n",
    "    #mutual information\n",
    "    mi = h1 + h2 - h12\n",
    "    \n",
    "    return(h1,h2,h12,mi)"
   ]
  },
  {
   "cell_type": "code",
   "execution_count": 89,
   "id": "f05b314d",
   "metadata": {},
   "outputs": [],
   "source": [
    "# Combining these two so the only output is the metric\n",
    "\n",
    "from math import isnan\n",
    "from numpy import log2\n",
    "\n",
    "def metric_of_two(assay1,assay2):\n",
    "    #get contigengency table that describes actives in assay1 and assay2\n",
    "    #considers only substances measured in both assays\n",
    "    #return 2x2 contingengy table: (0,0)/a: A+B+, (0,1)/b: A+B-, (1,0)/c: A-B+, (1,1)/d: A-B-\n",
    "    \n",
    "    a = 0\n",
    "    b = 0\n",
    "    c = 0\n",
    "    d = 0\n",
    "    \n",
    "    for ass1,ass2 in zip(assay1,assay2):\n",
    "        \n",
    "        if isnan(ass1) or isnan(ass2): #consider only cases where compound was measured in both assyas\n",
    "            continue\n",
    "        \n",
    "        if ass1 == 1 and ass2 == 1:\n",
    "            a+=1\n",
    "        \n",
    "        elif ass1 == 1 and ass2 == 0:\n",
    "            b+=1\n",
    "        \n",
    "        elif ass1 == 0 and ass2 == 1:\n",
    "            c+=1\n",
    "        \n",
    "        elif ass1 == 0 and ass2 == 0:\n",
    "            d+=1\n",
    "    \n",
    "    #prob active in assay1\n",
    "    p1 = (a+b)/(a+b+c+d)\n",
    "    #entropy assay1\n",
    "    h1 = -p1*log2(p1) - (1-p1)*log2(1-p1)\n",
    "    \n",
    "    #prob active in assay2\n",
    "    p2 = (a+c)/(a+b+c+d)\n",
    "    #entropy assay2\n",
    "    h2 = -p2*log2(p2) - (1-p2)*log2(1-p2)\n",
    "    \n",
    "    #prob each table field\n",
    "    p3 = a/(a+b+c+d)\n",
    "    p4 = b/(a+b+c+d)\n",
    "    p5 = c/(a+b+c+d)\n",
    "    p6 = d/(a+b+c+d)\n",
    "    \n",
    "    #joint entropy\n",
    "    h12 = -p3*log2(p3) - p4*log2(p4) - p5*log2(p5) - p6*log2(p6)\n",
    "    \n",
    "    #mutual information\n",
    "    mi = h1 + h2 - h12\n",
    "    \n",
    "    return(h12,mi)"
   ]
  },
  {
   "cell_type": "code",
   "execution_count": 27,
   "id": "b2ac732b",
   "metadata": {},
   "outputs": [],
   "source": [
    "#Creating lost of combinations\n",
    "from itertools import combinations\n",
    "\n",
    "\n",
    "header_list = list(df_toxcast.columns)\n",
    "del header_list[-1] #delete the smiles heading\n",
    "header_combinations = []\n",
    "\n",
    "for combo in combinations(header_list, 2):  # 2 for pairs, 3 for triplets, etc\n",
    "    header_combinations.append(combo)\n",
    "\n",
    "header_combinations = np.array(header_combinations)"
   ]
  },
  {
   "cell_type": "code",
   "execution_count": 28,
   "id": "022a0861",
   "metadata": {},
   "outputs": [
    {
     "name": "stderr",
     "output_type": "stream",
     "text": [
      "<ipython-input-23-bc71eca6ccaf>:41: RuntimeWarning: divide by zero encountered in log2\n",
      "  h2 = -p2*log2(p2) - (1-p2)*log2(1-p2)\n",
      "<ipython-input-23-bc71eca6ccaf>:41: RuntimeWarning: invalid value encountered in double_scalars\n",
      "  h2 = -p2*log2(p2) - (1-p2)*log2(1-p2)\n",
      "<ipython-input-23-bc71eca6ccaf>:50: RuntimeWarning: divide by zero encountered in log2\n",
      "  h12 = -p3*log2(p3) - p4*log2(p4) - p5*log2(p5) - p6*log2(p6)\n",
      "<ipython-input-23-bc71eca6ccaf>:50: RuntimeWarning: invalid value encountered in double_scalars\n",
      "  h12 = -p3*log2(p3) - p4*log2(p4) - p5*log2(p5) - p6*log2(p6)\n",
      "<ipython-input-23-bc71eca6ccaf>:36: RuntimeWarning: divide by zero encountered in log2\n",
      "  h1 = -p1*log2(p1) - (1-p1)*log2(1-p1)\n",
      "<ipython-input-23-bc71eca6ccaf>:36: RuntimeWarning: invalid value encountered in double_scalars\n",
      "  h1 = -p1*log2(p1) - (1-p1)*log2(1-p1)\n"
     ]
    },
    {
     "name": "stdout",
     "output_type": "stream",
     "text": [
      "error\n",
      "error\n",
      "error\n",
      "error\n",
      "error\n"
     ]
    }
   ],
   "source": [
    "information_table = np.zeros([len(header_combinations), 2])\n",
    "\n",
    "for i in range(len(header_combinations)): #iterate over combinations\n",
    "        \n",
    "    try:\n",
    "        information_table[i,0], information_table[i,1] = metric_of_two(df_toxcast[header_combinations[i,0]],df_toxcast[header_combinations[i,1]])\n",
    "    except ZeroDivisionError:\n",
    "        information_table[i,0], information_table[i,1] = np.nan, np.nan\n",
    "        print('error')\n",
    "\n"
   ]
  },
  {
   "cell_type": "code",
   "execution_count": 29,
   "id": "54398c38",
   "metadata": {},
   "outputs": [],
   "source": [
    "#creating the dataframe including all the data\n",
    "\n",
    "df_relations = pd.DataFrame({'assay1' : header_combinations[:,0],\n",
    "                           'assay2': header_combinations[:,1],\n",
    "                           'joint_entropy' : information_table[:,0],\n",
    "                           'mutual_information' : information_table[:,1]})\n"
   ]
  },
  {
   "cell_type": "code",
   "execution_count": 271,
   "id": "53a80eca",
   "metadata": {},
   "outputs": [],
   "source": [
    "df_relations.to_csv('/Users/Allen/Desktop/Dissertation/Moritz_notebook/assay_information.csv')"
   ]
  },
  {
   "cell_type": "code",
   "execution_count": 85,
   "id": "fa4a0068",
   "metadata": {
    "scrolled": true
   },
   "outputs": [
    {
     "data": {
      "text/html": [
       "<div>\n",
       "<style scoped>\n",
       "    .dataframe tbody tr th:only-of-type {\n",
       "        vertical-align: middle;\n",
       "    }\n",
       "\n",
       "    .dataframe tbody tr th {\n",
       "        vertical-align: top;\n",
       "    }\n",
       "\n",
       "    .dataframe thead th {\n",
       "        text-align: right;\n",
       "    }\n",
       "</style>\n",
       "<table border=\"1\" class=\"dataframe\">\n",
       "  <thead>\n",
       "    <tr style=\"text-align: right;\">\n",
       "      <th></th>\n",
       "      <th>Unnamed: 0</th>\n",
       "      <th>assay1</th>\n",
       "      <th>assay2</th>\n",
       "      <th>joint_entropy</th>\n",
       "      <th>mutual_information</th>\n",
       "    </tr>\n",
       "  </thead>\n",
       "  <tbody>\n",
       "    <tr>\n",
       "      <th>0</th>\n",
       "      <td>0</td>\n",
       "      <td>ACEA_T47D_80hr_Negative</td>\n",
       "      <td>ACEA_T47D_80hr_Positive</td>\n",
       "      <td>1.475818</td>\n",
       "      <td>0.000064</td>\n",
       "    </tr>\n",
       "    <tr>\n",
       "      <th>1</th>\n",
       "      <td>1</td>\n",
       "      <td>ACEA_T47D_80hr_Negative</td>\n",
       "      <td>APR_HepG2_CellCycleArrest_24h_dn</td>\n",
       "      <td>1.431312</td>\n",
       "      <td>0.082837</td>\n",
       "    </tr>\n",
       "    <tr>\n",
       "      <th>2</th>\n",
       "      <td>2</td>\n",
       "      <td>ACEA_T47D_80hr_Negative</td>\n",
       "      <td>APR_HepG2_CellCycleArrest_24h_up</td>\n",
       "      <td>1.113677</td>\n",
       "      <td>0.001906</td>\n",
       "    </tr>\n",
       "    <tr>\n",
       "      <th>3</th>\n",
       "      <td>3</td>\n",
       "      <td>ACEA_T47D_80hr_Negative</td>\n",
       "      <td>APR_HepG2_CellCycleArrest_72h_dn</td>\n",
       "      <td>1.546391</td>\n",
       "      <td>0.104440</td>\n",
       "    </tr>\n",
       "    <tr>\n",
       "      <th>4</th>\n",
       "      <td>4</td>\n",
       "      <td>ACEA_T47D_80hr_Negative</td>\n",
       "      <td>APR_HepG2_CellLoss_24h_dn</td>\n",
       "      <td>1.498221</td>\n",
       "      <td>0.230013</td>\n",
       "    </tr>\n",
       "    <tr>\n",
       "      <th>...</th>\n",
       "      <td>...</td>\n",
       "      <td>...</td>\n",
       "      <td>...</td>\n",
       "      <td>...</td>\n",
       "      <td>...</td>\n",
       "    </tr>\n",
       "    <tr>\n",
       "      <th>190031</th>\n",
       "      <td>190031</td>\n",
       "      <td>Tanguay_ZF_120hpf_SWIM_up</td>\n",
       "      <td>Tanguay_ZF_120hpf_TR_up</td>\n",
       "      <td>0.531157</td>\n",
       "      <td>0.079776</td>\n",
       "    </tr>\n",
       "    <tr>\n",
       "      <th>190032</th>\n",
       "      <td>190032</td>\n",
       "      <td>Tanguay_ZF_120hpf_SWIM_up</td>\n",
       "      <td>Tanguay_ZF_120hpf_YSE_up</td>\n",
       "      <td>0.657201</td>\n",
       "      <td>0.092984</td>\n",
       "    </tr>\n",
       "    <tr>\n",
       "      <th>190033</th>\n",
       "      <td>190033</td>\n",
       "      <td>Tanguay_ZF_120hpf_TRUN_up</td>\n",
       "      <td>Tanguay_ZF_120hpf_TR_up</td>\n",
       "      <td>0.586466</td>\n",
       "      <td>0.128660</td>\n",
       "    </tr>\n",
       "    <tr>\n",
       "      <th>190034</th>\n",
       "      <td>190034</td>\n",
       "      <td>Tanguay_ZF_120hpf_TRUN_up</td>\n",
       "      <td>Tanguay_ZF_120hpf_YSE_up</td>\n",
       "      <td>0.739977</td>\n",
       "      <td>0.115701</td>\n",
       "    </tr>\n",
       "    <tr>\n",
       "      <th>190035</th>\n",
       "      <td>190035</td>\n",
       "      <td>Tanguay_ZF_120hpf_TR_up</td>\n",
       "      <td>Tanguay_ZF_120hpf_YSE_up</td>\n",
       "      <td>0.785593</td>\n",
       "      <td>0.163700</td>\n",
       "    </tr>\n",
       "  </tbody>\n",
       "</table>\n",
       "<p>190036 rows × 5 columns</p>\n",
       "</div>"
      ],
      "text/plain": [
       "        Unnamed: 0                     assay1  \\\n",
       "0                0    ACEA_T47D_80hr_Negative   \n",
       "1                1    ACEA_T47D_80hr_Negative   \n",
       "2                2    ACEA_T47D_80hr_Negative   \n",
       "3                3    ACEA_T47D_80hr_Negative   \n",
       "4                4    ACEA_T47D_80hr_Negative   \n",
       "...            ...                        ...   \n",
       "190031      190031  Tanguay_ZF_120hpf_SWIM_up   \n",
       "190032      190032  Tanguay_ZF_120hpf_SWIM_up   \n",
       "190033      190033  Tanguay_ZF_120hpf_TRUN_up   \n",
       "190034      190034  Tanguay_ZF_120hpf_TRUN_up   \n",
       "190035      190035    Tanguay_ZF_120hpf_TR_up   \n",
       "\n",
       "                                  assay2  joint_entropy  mutual_information  \n",
       "0                ACEA_T47D_80hr_Positive       1.475818            0.000064  \n",
       "1       APR_HepG2_CellCycleArrest_24h_dn       1.431312            0.082837  \n",
       "2       APR_HepG2_CellCycleArrest_24h_up       1.113677            0.001906  \n",
       "3       APR_HepG2_CellCycleArrest_72h_dn       1.546391            0.104440  \n",
       "4              APR_HepG2_CellLoss_24h_dn       1.498221            0.230013  \n",
       "...                                  ...            ...                 ...  \n",
       "190031           Tanguay_ZF_120hpf_TR_up       0.531157            0.079776  \n",
       "190032          Tanguay_ZF_120hpf_YSE_up       0.657201            0.092984  \n",
       "190033           Tanguay_ZF_120hpf_TR_up       0.586466            0.128660  \n",
       "190034          Tanguay_ZF_120hpf_YSE_up       0.739977            0.115701  \n",
       "190035          Tanguay_ZF_120hpf_YSE_up       0.785593            0.163700  \n",
       "\n",
       "[190036 rows x 5 columns]"
      ]
     },
     "execution_count": 85,
     "metadata": {},
     "output_type": "execute_result"
    }
   ],
   "source": [
    "df_relations = pd.read_csv('/Users/Allen/Desktop/Dissertation/Moritz_notebook/assay_information.csv')\n",
    "df_relations"
   ]
  },
  {
   "cell_type": "markdown",
   "id": "e2aeb3fb",
   "metadata": {},
   "source": [
    "# Old code\n",
    "\n",
    "information_table = np.zeros([(df_toxcast.shape[1]-1)**2, 4])\n",
    "\n",
    "for i in range(df_toxcast.shape[1]-1): #iterate over columns\n",
    "    \n",
    "    for j in range(df_toxcast.shape[1]-1):\n",
    "        \n",
    "        try:\n",
    "            information_table[j + (i*(df_toxcast.shape[1]-1)),0], information_table[j + (i*(df_toxcast.shape[1]-1)),1]\n",
    "            information_table[j + (i*(df_toxcast.shape[1]-1)),2], information_table[j + (i*(df_toxcast.shape[1]-1)),3] = metric_of_two(df_toxcast.iloc[:,i],df_toxcast.iloc[:,j])\n",
    "        except ZeroDivisionError:\n",
    "            information_table[j,0], information_table[j,1] = np.nan, np.nan\n",
    "            print('error')\n",
    "    print(i)\n",
    "\n",
    "assay_1 = []\n",
    "assay_2 = []\n",
    "\n",
    "for i in range(df_toxcast.shape[1]-1): #iterate over columns\n",
    "    \n",
    "    for j in range(df_toxcast.shape[1]-1):\n",
    "        \n",
    "        assay_1.append(df_toxcast.columns[i])\n",
    "        assay_2.append(df_toxcast.columns[j])\n",
    "        "
   ]
  },
  {
   "cell_type": "markdown",
   "id": "e3d4c8b4",
   "metadata": {},
   "source": [
    "# Histograms "
   ]
  },
  {
   "cell_type": "code",
   "execution_count": 73,
   "id": "1fc16c5f",
   "metadata": {
    "scrolled": true
   },
   "outputs": [
    {
     "name": "stdout",
     "output_type": "stream",
     "text": [
      "0.02633775976759202\n",
      "0.00609706566787885\n"
     ]
    },
    {
     "data": {
      "image/png": "[encoded data removed]",
      "text/plain": [
       "<Figure size 432x288 with 1 Axes>"
      ]
     },
     "metadata": {
      "needs_background": "light"
     },
     "output_type": "display_data"
    }
   ],
   "source": [
    "import matplotlib.pyplot as plt\n",
    "import numpy as np\n",
    "from matplotlib import colors\n",
    "from matplotlib.ticker import PercentFormatter\n",
    "\n",
    "#Mutual information and joint entropy histograms \n",
    "\n",
    "\n",
    "\n",
    "plt.hist(df_relations['mutual_information'], bins=50, label = 'Mutual Information', edgecolor = '#1f77b4')\n",
    "plt.title('Mutual Information for Assay Pairs')\n",
    "plt.xlabel('Mutual Information')\n",
    "plt.ylabel('Count')\n",
    "plt.savefig('/Users/Allen/Desktop/Dissertation/Moritz_notebook/Exploration/mutual_info.pdf')\n",
    "plt.plot()\n",
    "\n",
    "print(df_relations['mutual_information'].mean())\n",
    "print(df_relations['mutual_information'].median())"
   ]
  },
  {
   "cell_type": "code",
   "execution_count": 72,
   "id": "ea3fc684",
   "metadata": {},
   "outputs": [
    {
     "name": "stdout",
     "output_type": "stream",
     "text": [
      "1.1324156709294269\n",
      "1.1350862833434103\n"
     ]
    },
    {
     "data": {
      "image/png": "[encoded data removed]",
      "text/plain": [
       "<Figure size 432x288 with 1 Axes>"
      ]
     },
     "metadata": {
      "needs_background": "light"
     },
     "output_type": "display_data"
    }
   ],
   "source": [
    "plt.hist(df_relations['joint_entropy'], bins=50, edgecolor = '#1f77b4')\n",
    "plt.title('Joint Entropy of Assay Pairs')\n",
    "plt.xlabel('Joint Entropy')\n",
    "plt.ylabel('Count')\n",
    "plt.savefig('/Users/Allen/Desktop/Dissertation/Moritz_notebook/Exploration/joint_entropy.pdf')\n",
    "plt.plot()\n",
    "\n",
    "print(df_relations['joint_entropy'].mean())\n",
    "print(df_relations['joint_entropy'].median())"
   ]
  },
  {
   "cell_type": "code",
   "execution_count": 71,
   "id": "018b0414",
   "metadata": {},
   "outputs": [
    {
     "name": "stdout",
     "output_type": "stream",
     "text": [
      "0.7020444455174949\n",
      "0.8204700141261076\n"
     ]
    },
    {
     "data": {
      "image/png": "[encoded data removed]",
      "text/plain": [
       "<Figure size 432x288 with 1 Axes>"
      ]
     },
     "metadata": {
      "needs_background": "light"
     },
     "output_type": "display_data"
    }
   ],
   "source": [
    "plt.hist(df_stats['fraction_missing'], bins=20, edgecolor = '#1f77b4')\n",
    "plt.title('Fraction of Compounds Missing by Assay')\n",
    "plt.xlabel('Fraction Missing')\n",
    "plt.ylabel('Count')\n",
    "plt.savefig('/Users/Allen/Desktop/Dissertation/Moritz_notebook/Exploration/fraction_missing.pdf')\n",
    "plt.plot()\n",
    "\n",
    "print(df_stats['fraction_missing'].mean())\n",
    "print(df_stats['fraction_missing'].median())"
   ]
  },
  {
   "cell_type": "code",
   "execution_count": 70,
   "id": "0849d05e",
   "metadata": {},
   "outputs": [
    {
     "name": "stdout",
     "output_type": "stream",
     "text": [
      "0.024186094140610397\n",
      "0.0130987543341466\n"
     ]
    },
    {
     "data": {
      "image/png": "[encoded data removed]",
      "text/plain": [
       "<Figure size 432x288 with 1 Axes>"
      ]
     },
     "metadata": {
      "needs_background": "light"
     },
     "output_type": "display_data"
    }
   ],
   "source": [
    "plt.hist(df_stats['fraction_active'], bins=20, edgecolor = '#1f77b4')\n",
    "plt.title('Fraction of Compounds Active by Assay')\n",
    "plt.xlabel('Fraction Active')\n",
    "plt.ylabel('Count')\n",
    "plt.savefig('/Users/Allen/Desktop/Dissertation/Moritz_notebook/Exploration/fraction_active.pdf')\n",
    "plt.plot()\n",
    "\n",
    "print(df_stats['fraction_active'].mean())\n",
    "print(df_stats['fraction_active'].median())"
   ]
  },
  {
   "cell_type": "markdown",
   "id": "080f4f82",
   "metadata": {},
   "source": [
    "## Other Histograms"
   ]
  },
  {
   "cell_type": "code",
   "execution_count": 69,
   "id": "5735281e",
   "metadata": {},
   "outputs": [
    {
     "data": {
      "text/plain": [
       "[]"
      ]
     },
     "execution_count": 69,
     "metadata": {},
     "output_type": "execute_result"
    },
    {
     "data": {
      "image/png": "[encoded data removed]",
      "text/plain": [
       "<Figure size 432x288 with 1 Axes>"
      ]
     },
     "metadata": {
      "needs_background": "light"
     },
     "output_type": "display_data"
    }
   ],
   "source": [
    "# Ratio of mutual information and joint entropy\n",
    "plt.hist(df_relations['mutual_information']/df_relations['joint_entropy'], bins=50, label = 'Mutual Information / Joint Entropy ratio',edgecolor = '#1f77b4')\n",
    "plt.xlabel('Ratio')\n",
    "plt.title('Ratio of mutual information to joint entropy for each assay combination')\n",
    "plt.ylabel('Count')\n",
    "plt.legend()\n",
    "plt.savefig('/Users/Allen/Desktop/Dissertation/Moritz_notebook/Exploration/ratio_graph.pdf')\n",
    "plt.plot()"
   ]
  },
  {
   "cell_type": "code",
   "execution_count": 62,
   "id": "e4d91458",
   "metadata": {},
   "outputs": [
    {
     "name": "stdout",
     "output_type": "stream",
     "text": [
      "0.021513252394036196\n",
      "0.5823902977233172\n"
     ]
    }
   ],
   "source": [
    "new_data = (df_relations['mutual_information']/df_relations['joint_entropy']).copy()\n",
    "\n",
    "print(new_data.mean())\n",
    "print(new_data.max())"
   ]
  },
  {
   "cell_type": "code",
   "execution_count": 68,
   "id": "e6196bd1",
   "metadata": {},
   "outputs": [
    {
     "data": {
      "image/png": "[encoded data removed]",
      "text/plain": [
       "<Figure size 432x288 with 1 Axes>"
      ]
     },
     "metadata": {
      "needs_background": "light"
     },
     "output_type": "display_data"
    }
   ],
   "source": [
    "plt.hist(df_relations['mutual_information']/df_relations['joint_entropy'], bins=50, label = 'Mutual Information / Joint Entropy ratio', edgecolor = '#1f77b4')\n",
    "plt.xlabel('Ratio')\n",
    "plt.title('Ratio of mutual information to joint entropy for each assay combination')\n",
    "plt.ylabel('Count')\n",
    "plt.ylim(0,500)\n",
    "plt.legend()\n",
    "plt.savefig('/Users/Allen/Desktop/Dissertation/Moritz_notebook/Exploration/ratio_graph_ylim.pdf')\n"
   ]
  },
  {
   "cell_type": "code",
   "execution_count": 65,
   "id": "3dd58fdb",
   "metadata": {},
   "outputs": [
    {
     "data": {
      "image/png": "[encoded data removed]",
      "text/plain": [
       "<Figure size 432x288 with 1 Axes>"
      ]
     },
     "metadata": {
      "needs_background": "light"
     },
     "output_type": "display_data"
    }
   ],
   "source": [
    "# 2D scatter plot of fraction missing and fraction active\n",
    "\n",
    "plt.scatter(df_stats['fraction_active'], df_stats['fraction_missing'], marker = 'x', s=0.8, label = 'Individual Assay')\n",
    "plt.title('Fractions of missing and active labels in Toxcast Data')\n",
    "plt.xlabel('Fraction of Assay Active')\n",
    "plt.ylabel('Fraction of Assay Missing Label')\n",
    "plt.legend()\n",
    "plt.savefig('/Users/Allen/Desktop/Dissertation/Moritz_notebook/Exploration/fractions_missing_active.pdf')\n",
    "\n"
   ]
  },
  {
   "cell_type": "code",
   "execution_count": 54,
   "id": "fe0a0575",
   "metadata": {},
   "outputs": [
    {
     "ename": "AttributeError",
     "evalue": "'PathCollection' object has no attribute 'show'",
     "output_type": "error",
     "traceback": [
      "\u001b[0;31m---------------------------------------------------------------------------\u001b[0m",
      "\u001b[0;31mAttributeError\u001b[0m                            Traceback (most recent call last)",
      "\u001b[0;32m<ipython-input-54-dbcb54a9a64a>\u001b[0m in \u001b[0;36m<module>\u001b[0;34m\u001b[0m\n\u001b[0;32m----> 1\u001b[0;31m \u001b[0mnew_plot\u001b[0m\u001b[0;34m.\u001b[0m\u001b[0mshow\u001b[0m\u001b[0;34m(\u001b[0m\u001b[0;34m)\u001b[0m\u001b[0;34m\u001b[0m\u001b[0;34m\u001b[0m\u001b[0m\n\u001b[0m",
      "\u001b[0;31mAttributeError\u001b[0m: 'PathCollection' object has no attribute 'show'"
     ]
    }
   ],
   "source": [
    "new_plot.show()"
   ]
  },
  {
   "cell_type": "code",
   "execution_count": 24,
   "id": "1c4eb628",
   "metadata": {},
   "outputs": [
    {
     "data": {
      "text/html": [
       "<div>\n",
       "<style scoped>\n",
       "    .dataframe tbody tr th:only-of-type {\n",
       "        vertical-align: middle;\n",
       "    }\n",
       "\n",
       "    .dataframe tbody tr th {\n",
       "        vertical-align: top;\n",
       "    }\n",
       "\n",
       "    .dataframe thead th {\n",
       "        text-align: right;\n",
       "    }\n",
       "</style>\n",
       "<table border=\"1\" class=\"dataframe\">\n",
       "  <thead>\n",
       "    <tr style=\"text-align: right;\">\n",
       "      <th></th>\n",
       "      <th>index</th>\n",
       "      <th>0</th>\n",
       "    </tr>\n",
       "  </thead>\n",
       "  <tbody>\n",
       "    <tr>\n",
       "      <th>0</th>\n",
       "      <td>184885</td>\n",
       "      <td>5.823903e-01</td>\n",
       "    </tr>\n",
       "    <tr>\n",
       "      <th>1</th>\n",
       "      <td>189975</td>\n",
       "      <td>5.330687e-01</td>\n",
       "    </tr>\n",
       "    <tr>\n",
       "      <th>2</th>\n",
       "      <td>166172</td>\n",
       "      <td>5.208551e-01</td>\n",
       "    </tr>\n",
       "    <tr>\n",
       "      <th>3</th>\n",
       "      <td>184888</td>\n",
       "      <td>5.176362e-01</td>\n",
       "    </tr>\n",
       "    <tr>\n",
       "      <th>4</th>\n",
       "      <td>131057</td>\n",
       "      <td>5.127045e-01</td>\n",
       "    </tr>\n",
       "    <tr>\n",
       "      <th>...</th>\n",
       "      <td>...</td>\n",
       "      <td>...</td>\n",
       "    </tr>\n",
       "    <tr>\n",
       "      <th>162355</th>\n",
       "      <td>148539</td>\n",
       "      <td>-2.739646e-16</td>\n",
       "    </tr>\n",
       "    <tr>\n",
       "      <th>162356</th>\n",
       "      <td>19955</td>\n",
       "      <td>-3.071919e-16</td>\n",
       "    </tr>\n",
       "    <tr>\n",
       "      <th>162357</th>\n",
       "      <td>20022</td>\n",
       "      <td>-3.071919e-16</td>\n",
       "    </tr>\n",
       "    <tr>\n",
       "      <th>162358</th>\n",
       "      <td>142368</td>\n",
       "      <td>-3.228142e-16</td>\n",
       "    </tr>\n",
       "    <tr>\n",
       "      <th>162359</th>\n",
       "      <td>134612</td>\n",
       "      <td>-3.957755e-16</td>\n",
       "    </tr>\n",
       "  </tbody>\n",
       "</table>\n",
       "<p>162360 rows × 2 columns</p>\n",
       "</div>"
      ],
      "text/plain": [
       "         index             0\n",
       "0       184885  5.823903e-01\n",
       "1       189975  5.330687e-01\n",
       "2       166172  5.208551e-01\n",
       "3       184888  5.176362e-01\n",
       "4       131057  5.127045e-01\n",
       "...        ...           ...\n",
       "162355  148539 -2.739646e-16\n",
       "162356   19955 -3.071919e-16\n",
       "162357   20022 -3.071919e-16\n",
       "162358  142368 -3.228142e-16\n",
       "162359  134612 -3.957755e-16\n",
       "\n",
       "[162360 rows x 2 columns]"
      ]
     },
     "execution_count": 24,
     "metadata": {},
     "output_type": "execute_result"
    }
   ],
   "source": [
    "df_ratios = pd.DataFrame(df_relations['mutual_information']/df_relations['joint_entropy'])\n",
    "df_ratios.dropna().sort_values(0,ascending=False).reset_index()"
   ]
  },
  {
   "cell_type": "markdown",
   "id": "1791c312",
   "metadata": {},
   "source": [
    "# Creating Function to obtain mutual info and entropy"
   ]
  },
  {
   "cell_type": "code",
   "execution_count": 86,
   "id": "bd310564",
   "metadata": {},
   "outputs": [],
   "source": [
    "\n",
    "\n",
    "def info_table(df, extra = False):\n",
    "\n",
    "\n",
    "\n",
    "    header_list = list(df.columns)\n",
    "    del header_list[-1] #delete the smiles heading\n",
    "    if extra == True:\n",
    "        del header_list[-1]\n",
    "    else: pass\n",
    "    header_combinations = []\n",
    "\n",
    "    for combo in combinations(header_list, 2):  # 2 for pairs, 3 for triplets, etc\n",
    "        header_combinations.append(combo)\n",
    "\n",
    "    header_combinations = np.array(header_combinations)\n",
    "\n",
    "\n",
    "\n",
    "    information_table = np.zeros([len(header_combinations), 2])\n",
    "\n",
    "    for i in range(len(header_combinations)): #iterate over combinations\n",
    "\n",
    "        try:\n",
    "            information_table[i,0], information_table[i,1] = metric_of_two(df[header_combinations[i,0]],df[header_combinations[i,1]])\n",
    "        except ZeroDivisionError:\n",
    "            information_table[i,0], information_table[i,1] = np.nan, np.nan\n",
    "            print('error')\n",
    "\n",
    "\n",
    "\n",
    "\n",
    "\n",
    "    df_relations = pd.DataFrame({'assay1' : header_combinations[:,0],\n",
    "                               'assay2': header_combinations[:,1],\n",
    "                               'joint_entropy' : information_table[:,0],\n",
    "                               'mutual_information' : information_table[:,1]})\n",
    "\n",
    "    return(df_relations)\n",
    "\n"
   ]
  },
  {
   "cell_type": "code",
   "execution_count": null,
   "id": "b5fbb509",
   "metadata": {},
   "outputs": [],
   "source": []
  },
  {
   "cell_type": "code",
   "execution_count": 91,
   "id": "2f505853",
   "metadata": {},
   "outputs": [],
   "source": [
    "#Moritz notebook\n",
    "\n",
    "df_ames = pd.read_csv('/Users/Allen/Desktop/Dissertation/Moritz_notebook/Ames_aggregated.csv')\n",
    "\n",
    "df_tox21 = pd.read_csv('/Users/Allen/Desktop/Dissertation/Moritz_notebook/Tox21_aggregated.csv')"
   ]
  },
  {
   "cell_type": "code",
   "execution_count": 92,
   "id": "09467a56",
   "metadata": {},
   "outputs": [],
   "source": [
    "ames_relations = info_table(df_ames, True)\n",
    "tox21_relations = info_table(df_tox21, True)"
   ]
  },
  {
   "cell_type": "code",
   "execution_count": 93,
   "id": "5a9e21c4",
   "metadata": {},
   "outputs": [
    {
     "data": {
      "text/plain": [
       "[]"
      ]
     },
     "execution_count": 93,
     "metadata": {},
     "output_type": "execute_result"
    },
    {
     "data": {
      "image/png": "[encoded data removed]",
      "text/plain": [
       "<Figure size 432x288 with 1 Axes>"
      ]
     },
     "metadata": {
      "needs_background": "light"
     },
     "output_type": "display_data"
    }
   ],
   "source": [
    "ames_relations\n",
    "# Ratio of mutual information and joint entropy\n",
    "plt.hist(ames_relations['mutual_information']/ames_relations['joint_entropy'], bins=50, label = 'Ames Data')\n",
    "plt.xlabel('Ratio')\n",
    "plt.title('Ratio of mutual information to joint entropy for each assay combination')\n",
    "plt.ylabel('Count')\n",
    "plt.legend()\n",
    "plt.savefig('/Users/Allen/Desktop/Dissertation/Moritz_notebook/Exploration/ames_ratio_graph.pdf')\n",
    "plt.plot()"
   ]
  },
  {
   "cell_type": "code",
   "execution_count": 94,
   "id": "65c09a58",
   "metadata": {},
   "outputs": [
    {
     "data": {
      "text/plain": [
       "[]"
      ]
     },
     "execution_count": 94,
     "metadata": {},
     "output_type": "execute_result"
    },
    {
     "data": {
      "image/png": "[encoded data removed]",
      "text/plain": [
       "<Figure size 432x288 with 1 Axes>"
      ]
     },
     "metadata": {
      "needs_background": "light"
     },
     "output_type": "display_data"
    }
   ],
   "source": [
    "tox21_relations\n",
    "\n",
    "# Ratio of mutual information and joint entropy\n",
    "plt.hist(tox21_relations['mutual_information']/tox21_relations['joint_entropy'], bins=50, label = 'Tox21 Data')\n",
    "plt.xlabel('Ratio')\n",
    "plt.title('Ratio of mutual information to joint entropy for each assay combination')\n",
    "plt.ylabel('Count')\n",
    "plt.legend()\n",
    "plt.savefig('/Users/Allen/Desktop/Dissertation/Moritz_notebook/Exploration/tox21_ratio_graph.pdf')\n",
    "plt.plot()"
   ]
  },
  {
   "cell_type": "markdown",
   "id": "eaa43d40",
   "metadata": {},
   "source": [
    "# Stats table"
   ]
  },
  {
   "cell_type": "code",
   "execution_count": 95,
   "id": "e77b4a6f",
   "metadata": {},
   "outputs": [],
   "source": [
    "def stats(df,x=1):\n",
    "\n",
    "\n",
    "\n",
    "    stats = np.zeros((df.shape[1]-x,4))\n",
    "\n",
    "\n",
    "\n",
    "\n",
    "    for i in range(df.shape[1]-x): #iterate over columns\n",
    "        #print(i) # Just to see the progress of the loop\n",
    "\n",
    "        for j in range(df.shape[0]): #iterate over rows\n",
    "\n",
    "            if np.isnan(df.iloc[j,i]): #update numpy array\n",
    "                    stats[i,3] += 1\n",
    "\n",
    "            elif df.iloc[j,i] == 0.0:\n",
    "                stats[i,2] += 1\n",
    "\n",
    "            elif df.iloc[j,i] == 1.0:\n",
    "                stats[i,1] += 1\n",
    "            else:\n",
    "                print(i,j) #Locate any errors if they arise\n",
    "\n",
    "\n",
    "    df_stats = pd.DataFrame(stats)\n",
    "\n",
    "\n",
    "    for i in range(df.shape[1]-x):\n",
    "        df_stats.iloc[i,0] = df.columns[i]\n",
    "\n",
    "\n",
    "    df_stats.columns = ['assay_name','active_compounds','inactive_compounds','missing_compounds']\n",
    "\n",
    "\n",
    "\n",
    "    total = df_stats['active_compounds']+df_stats['inactive_compounds']+df_stats['missing_compounds']\n",
    "    df_stats['total'] = total\n",
    "\n",
    "\n",
    "\n",
    "\n",
    "    fraction_active = df_stats['active_compounds']/df_stats['total']\n",
    "    df_stats['fraction_active'] = fraction_active\n",
    "\n",
    "    fraction_inactive = df_stats['inactive_compounds']/df_stats['total']\n",
    "    df_stats['fraction_inactive'] = fraction_inactive\n",
    "\n",
    "    fraction_missing = df_stats['missing_compounds']/df_stats['total']\n",
    "    df_stats['fraction_missing'] = fraction_missing\n",
    "    \n",
    "    return(df_stats)"
   ]
  },
  {
   "cell_type": "code",
   "execution_count": 96,
   "id": "f6badec1",
   "metadata": {},
   "outputs": [],
   "source": [
    "df_ames_stats = stats(df_ames,2)\n",
    "df_tox21_stats = stats(df_tox21,2)"
   ]
  },
  {
   "cell_type": "code",
   "execution_count": 127,
   "id": "aeee1b7e",
   "metadata": {},
   "outputs": [
    {
     "data": {
      "text/plain": [
       "<matplotlib.legend.Legend at 0x14d197040>"
      ]
     },
     "execution_count": 127,
     "metadata": {},
     "output_type": "execute_result"
    },
    {
     "data": {
      "image/png": "[encoded data removed]",
      "text/plain": [
       "<Figure size 432x288 with 1 Axes>"
      ]
     },
     "metadata": {
      "needs_background": "light"
     },
     "output_type": "display_data"
    }
   ],
   "source": [
    "plt.scatter(df_ames_stats['fraction_active'], df_ames_stats['fraction_missing'], marker = 'x', s=20, label = 'Ames Data')\n",
    "plt.title('Fractions of missing and active labels in Ames Data')\n",
    "plt.xlabel('Fraction of Assay Active')\n",
    "plt.ylabel('Fraction of Assay Missing Label')\n",
    "plt.savefig('/Users/Allen/Desktop/Dissertation/Moritz_notebook/Exploration/ames_fractions_missing_active.pdf')\n",
    "plt.legend()"
   ]
  },
  {
   "cell_type": "code",
   "execution_count": 126,
   "id": "6ac6717c",
   "metadata": {},
   "outputs": [
    {
     "data": {
      "text/plain": [
       "<matplotlib.legend.Legend at 0x14d19e9a0>"
      ]
     },
     "execution_count": 126,
     "metadata": {},
     "output_type": "execute_result"
    },
    {
     "data": {
      "image/png": "[encoded data removed]",
      "text/plain": [
       "<Figure size 432x288 with 1 Axes>"
      ]
     },
     "metadata": {
      "needs_background": "light"
     },
     "output_type": "display_data"
    }
   ],
   "source": [
    "plt.scatter(df_tox21_stats['fraction_active'], df_tox21_stats['fraction_missing'], marker = 'x', s=20, label = 'Tox21 Data')\n",
    "plt.title('Fractions of missing and active labels in Tox21 Data')\n",
    "plt.xlabel('Fraction of Assay Active')\n",
    "plt.ylabel('Fraction of Assay Missing Label')\n",
    "plt.savefig('/Users/Allen/Desktop/Dissertation/Moritz_notebook/Exploration/tox21_fractions_missing_active.pdf')\n",
    "plt.legend()"
   ]
  },
  {
   "cell_type": "markdown",
   "id": "126e91f4",
   "metadata": {},
   "source": [
    "# Creating a comparison"
   ]
  },
  {
   "cell_type": "code",
   "execution_count": null,
   "id": "5127d397",
   "metadata": {},
   "outputs": [],
   "source": [
    "fig, axs = plt.subplots(2, 3)\n",
    "axs[0, 0].plot(x, y)\n",
    "axs[0, 0].set_title('Axis [0, 0]')\n",
    "axs[0, 1].plot(x, y, 'tab:orange')\n",
    "axs[0, 1].set_title('Axis [0, 1]')\n",
    "axs[1, 0].plot(x, -y, 'tab:green')\n",
    "axs[1, 0].set_title('Axis [1, 0]')\n",
    "axs[1, 1].plot(x, -y, 'tab:red')\n",
    "axs[1, 1].set_title('Axis [1, 1]')"
   ]
  },
  {
   "cell_type": "code",
   "execution_count": 97,
   "id": "f9b59799",
   "metadata": {},
   "outputs": [
    {
     "data": {
      "image/png": "[encoded data removed]",
      "text/plain": [
       "<Figure size 1080x1080 with 6 Axes>"
      ]
     },
     "metadata": {
      "needs_background": "light"
     },
     "output_type": "display_data"
    }
   ],
   "source": [
    "fig, axs = plt.subplots(3, 2, figsize=(15,15))\n",
    "axs[0,0].hist(df_relations['mutual_information']/df_relations['joint_entropy'], bins=50, label = 'Toxcast', edgecolor = '#1f77b4')\n",
    "axs[0,0].set_ylim(0,1000)\n",
    "axs[0,0].set_title('Mutual Info - Joint Entropy ratio')\n",
    "axs[0,0].set_ylabel('Count')\n",
    "axs[0,0].set_xlabel('Ratio')\n",
    "axs[0,0].legend()\n",
    "\n",
    "axs[2,0].hist(ames_relations['mutual_information']/ames_relations['joint_entropy'], bins=50, label = 'Ames Data', edgecolor = '#1f77b4')\n",
    "axs[2,0].set_title('Mutual Info - Joint Entropy ratio')\n",
    "axs[2,0].set_ylabel('Count')\n",
    "axs[2,0].set_xlabel('Ratio')\n",
    "axs[2,0].legend()\n",
    "\n",
    "axs[1,0].hist(tox21_relations['mutual_information']/tox21_relations['joint_entropy'], bins=50, label = 'Tox21 Data', edgecolor = '#1f77b4')\n",
    "axs[1,0].set_title('Mutual Info - Joint Entropy ratio')\n",
    "axs[1,0].set_ylabel('Count')\n",
    "axs[1,0].set_xlabel('Ratio')\n",
    "axs[1,0].legend()\n",
    "\n",
    "axs[0,1].scatter(df_stats['fraction_active'], df_stats['fraction_missing'], marker = 'x', s=0.8, label = 'Toxcast')\n",
    "axs[0,1].set_title('Fraction of Missing and Active Data Points')\n",
    "axs[0,1].set_ylabel('Fraction Missing')\n",
    "axs[0,1].set_xlabel('Fraction Active')\n",
    "axs[0,1].legend()\n",
    "\n",
    "axs[1,1].scatter(df_tox21_stats['fraction_active'], df_tox21_stats['fraction_missing'], marker = 'x', s=20, label = 'Tox21 Data')\n",
    "axs[1,1].set_title('Fraction of Missing and Active Data Points')\n",
    "axs[1,1].set_ylabel('Fraction Missing')\n",
    "axs[1,1].set_xlabel('Fraction Active')\n",
    "axs[1,1].legend()\n",
    "\n",
    "axs[2,1].scatter(df_ames_stats['fraction_active'], df_ames_stats['fraction_missing'], marker = 'x', s=20, label = 'Ames Data')\n",
    "axs[2,1].set_title('Fraction of Missing and Active Data Points')\n",
    "axs[2,1].set_ylabel('Fraction Missing')\n",
    "axs[2,1].set_xlabel('Fraction Active')\n",
    "axs[2,1].legend()\n",
    "\n",
    "plt.savefig('/Users/Allen/Desktop/Dissertation/Moritz_notebook/Exploration/dataset_comparison.pdf')"
   ]
  },
  {
   "cell_type": "code",
   "execution_count": null,
   "id": "32f1f825",
   "metadata": {},
   "outputs": [],
   "source": [
    "#filtering based on activity and sparsity"
   ]
  },
  {
   "cell_type": "code",
   "execution_count": 214,
   "id": "ed4f216a",
   "metadata": {},
   "outputs": [],
   "source": [
    "df_filtered_assays = df_stats.loc[(df_stats['active_compounds'] >= 60) & (df_stats['missing_compounds'] <= 7287)]"
   ]
  },
  {
   "cell_type": "code",
   "execution_count": 216,
   "id": "5b09a76e",
   "metadata": {},
   "outputs": [
    {
     "data": {
      "text/html": [
       "<div>\n",
       "<style scoped>\n",
       "    .dataframe tbody tr th:only-of-type {\n",
       "        vertical-align: middle;\n",
       "    }\n",
       "\n",
       "    .dataframe tbody tr th {\n",
       "        vertical-align: top;\n",
       "    }\n",
       "\n",
       "    .dataframe thead th {\n",
       "        text-align: right;\n",
       "    }\n",
       "</style>\n",
       "<table border=\"1\" class=\"dataframe\">\n",
       "  <thead>\n",
       "    <tr style=\"text-align: right;\">\n",
       "      <th></th>\n",
       "      <th>Unnamed: 0</th>\n",
       "      <th>assay_name</th>\n",
       "      <th>active_compounds</th>\n",
       "      <th>inactive_compounds</th>\n",
       "      <th>missing_compounds</th>\n",
       "      <th>total</th>\n",
       "      <th>fraction_active</th>\n",
       "      <th>fraction_inactive</th>\n",
       "      <th>fraction_missing</th>\n",
       "    </tr>\n",
       "  </thead>\n",
       "  <tbody>\n",
       "    <tr>\n",
       "      <th>0</th>\n",
       "      <td>0</td>\n",
       "      <td>ACEA_T47D_80hr_Negative</td>\n",
       "      <td>424.0</td>\n",
       "      <td>1233.0</td>\n",
       "      <td>6130.0</td>\n",
       "      <td>7787.0</td>\n",
       "      <td>0.054450</td>\n",
       "      <td>0.158341</td>\n",
       "      <td>0.787209</td>\n",
       "    </tr>\n",
       "    <tr>\n",
       "      <th>1</th>\n",
       "      <td>1</td>\n",
       "      <td>ACEA_T47D_80hr_Positive</td>\n",
       "      <td>279.0</td>\n",
       "      <td>1374.0</td>\n",
       "      <td>6134.0</td>\n",
       "      <td>7787.0</td>\n",
       "      <td>0.035829</td>\n",
       "      <td>0.176448</td>\n",
       "      <td>0.787723</td>\n",
       "    </tr>\n",
       "    <tr>\n",
       "      <th>2</th>\n",
       "      <td>2</td>\n",
       "      <td>APR_HepG2_CellCycleArrest_24h_dn</td>\n",
       "      <td>167.0</td>\n",
       "      <td>834.0</td>\n",
       "      <td>6786.0</td>\n",
       "      <td>7787.0</td>\n",
       "      <td>0.021446</td>\n",
       "      <td>0.107102</td>\n",
       "      <td>0.871452</td>\n",
       "    </tr>\n",
       "    <tr>\n",
       "      <th>4</th>\n",
       "      <td>4</td>\n",
       "      <td>APR_HepG2_CellCycleArrest_72h_dn</td>\n",
       "      <td>232.0</td>\n",
       "      <td>766.0</td>\n",
       "      <td>6789.0</td>\n",
       "      <td>7787.0</td>\n",
       "      <td>0.029793</td>\n",
       "      <td>0.098369</td>\n",
       "      <td>0.871838</td>\n",
       "    </tr>\n",
       "    <tr>\n",
       "      <th>5</th>\n",
       "      <td>5</td>\n",
       "      <td>APR_HepG2_CellLoss_24h_dn</td>\n",
       "      <td>286.0</td>\n",
       "      <td>714.0</td>\n",
       "      <td>6787.0</td>\n",
       "      <td>7787.0</td>\n",
       "      <td>0.036728</td>\n",
       "      <td>0.091691</td>\n",
       "      <td>0.871581</td>\n",
       "    </tr>\n",
       "    <tr>\n",
       "      <th>...</th>\n",
       "      <td>...</td>\n",
       "      <td>...</td>\n",
       "      <td>...</td>\n",
       "      <td>...</td>\n",
       "      <td>...</td>\n",
       "      <td>...</td>\n",
       "      <td>...</td>\n",
       "      <td>...</td>\n",
       "      <td>...</td>\n",
       "    </tr>\n",
       "    <tr>\n",
       "      <th>606</th>\n",
       "      <td>606</td>\n",
       "      <td>Tanguay_ZF_120hpf_MORT_up</td>\n",
       "      <td>118.0</td>\n",
       "      <td>884.0</td>\n",
       "      <td>6785.0</td>\n",
       "      <td>7787.0</td>\n",
       "      <td>0.015153</td>\n",
       "      <td>0.113523</td>\n",
       "      <td>0.871324</td>\n",
       "    </tr>\n",
       "    <tr>\n",
       "      <th>608</th>\n",
       "      <td>608</td>\n",
       "      <td>Tanguay_ZF_120hpf_PE_up</td>\n",
       "      <td>116.0</td>\n",
       "      <td>874.0</td>\n",
       "      <td>6797.0</td>\n",
       "      <td>7787.0</td>\n",
       "      <td>0.014897</td>\n",
       "      <td>0.112238</td>\n",
       "      <td>0.872865</td>\n",
       "    </tr>\n",
       "    <tr>\n",
       "      <th>611</th>\n",
       "      <td>611</td>\n",
       "      <td>Tanguay_ZF_120hpf_SNOU_up</td>\n",
       "      <td>107.0</td>\n",
       "      <td>882.0</td>\n",
       "      <td>6798.0</td>\n",
       "      <td>7787.0</td>\n",
       "      <td>0.013741</td>\n",
       "      <td>0.113266</td>\n",
       "      <td>0.872993</td>\n",
       "    </tr>\n",
       "    <tr>\n",
       "      <th>615</th>\n",
       "      <td>615</td>\n",
       "      <td>Tanguay_ZF_120hpf_TR_up</td>\n",
       "      <td>80.0</td>\n",
       "      <td>911.0</td>\n",
       "      <td>6796.0</td>\n",
       "      <td>7787.0</td>\n",
       "      <td>0.010274</td>\n",
       "      <td>0.116990</td>\n",
       "      <td>0.872737</td>\n",
       "    </tr>\n",
       "    <tr>\n",
       "      <th>616</th>\n",
       "      <td>616</td>\n",
       "      <td>Tanguay_ZF_120hpf_YSE_up</td>\n",
       "      <td>125.0</td>\n",
       "      <td>866.0</td>\n",
       "      <td>6796.0</td>\n",
       "      <td>7787.0</td>\n",
       "      <td>0.016052</td>\n",
       "      <td>0.111211</td>\n",
       "      <td>0.872737</td>\n",
       "    </tr>\n",
       "  </tbody>\n",
       "</table>\n",
       "<p>323 rows × 9 columns</p>\n",
       "</div>"
      ],
      "text/plain": [
       "     Unnamed: 0                        assay_name  active_compounds  \\\n",
       "0             0           ACEA_T47D_80hr_Negative             424.0   \n",
       "1             1           ACEA_T47D_80hr_Positive             279.0   \n",
       "2             2  APR_HepG2_CellCycleArrest_24h_dn             167.0   \n",
       "4             4  APR_HepG2_CellCycleArrest_72h_dn             232.0   \n",
       "5             5         APR_HepG2_CellLoss_24h_dn             286.0   \n",
       "..          ...                               ...               ...   \n",
       "606         606         Tanguay_ZF_120hpf_MORT_up             118.0   \n",
       "608         608           Tanguay_ZF_120hpf_PE_up             116.0   \n",
       "611         611         Tanguay_ZF_120hpf_SNOU_up             107.0   \n",
       "615         615           Tanguay_ZF_120hpf_TR_up              80.0   \n",
       "616         616          Tanguay_ZF_120hpf_YSE_up             125.0   \n",
       "\n",
       "     inactive_compounds  missing_compounds   total  fraction_active  \\\n",
       "0                1233.0             6130.0  7787.0         0.054450   \n",
       "1                1374.0             6134.0  7787.0         0.035829   \n",
       "2                 834.0             6786.0  7787.0         0.021446   \n",
       "4                 766.0             6789.0  7787.0         0.029793   \n",
       "5                 714.0             6787.0  7787.0         0.036728   \n",
       "..                  ...                ...     ...              ...   \n",
       "606               884.0             6785.0  7787.0         0.015153   \n",
       "608               874.0             6797.0  7787.0         0.014897   \n",
       "611               882.0             6798.0  7787.0         0.013741   \n",
       "615               911.0             6796.0  7787.0         0.010274   \n",
       "616               866.0             6796.0  7787.0         0.016052   \n",
       "\n",
       "     fraction_inactive  fraction_missing  \n",
       "0             0.158341          0.787209  \n",
       "1             0.176448          0.787723  \n",
       "2             0.107102          0.871452  \n",
       "4             0.098369          0.871838  \n",
       "5             0.091691          0.871581  \n",
       "..                 ...               ...  \n",
       "606           0.113523          0.871324  \n",
       "608           0.112238          0.872865  \n",
       "611           0.113266          0.872993  \n",
       "615           0.116990          0.872737  \n",
       "616           0.111211          0.872737  \n",
       "\n",
       "[323 rows x 9 columns]"
      ]
     },
     "execution_count": 216,
     "metadata": {},
     "output_type": "execute_result"
    }
   ],
   "source": [
    "df_filtered_assays"
   ]
  },
  {
   "cell_type": "code",
   "execution_count": 195,
   "id": "e64e13c6",
   "metadata": {},
   "outputs": [],
   "source": [
    "#100 randomly sampled assays from the filtered \n",
    "df_sampled = df_filtered_assays.sample(100, random_state = 0)"
   ]
  },
  {
   "cell_type": "code",
   "execution_count": 197,
   "id": "8e8e259a",
   "metadata": {},
   "outputs": [],
   "source": [
    "df_sampled.to_csv('/Users/Allen/Desktop/Dissertation/Moritz_notebook/sampled_assays.csv')"
   ]
  },
  {
   "cell_type": "code",
   "execution_count": null,
   "id": "a8255ef8",
   "metadata": {},
   "outputs": [],
   "source": []
  }
 ],
 "metadata": {
  "kernelspec": {
   "display_name": "Python 3",
   "language": "python",
   "name": "python3"
  },
  "language_info": {
   "codemirror_mode": {
    "name": "ipython",
    "version": 3
   },
   "file_extension": ".py",
   "mimetype": "text/x-python",
   "name": "python",
   "nbconvert_exporter": "python",
   "pygments_lexer": "ipython3",
   "version": "3.8.8"
  }
 },
 "nbformat": 4,
 "nbformat_minor": 5
}
